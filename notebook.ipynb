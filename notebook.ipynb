{
 "cells": [
  {
   "cell_type": "markdown",
   "metadata": {},
   "source": [
    "Importo el módulo \"censo2022\" desde la carpeta \"modules\" e invoco a la función \"create_modified_file\" para generar un nuevo archivo .csv en el directorio \"datasets_custom\" a partir de los datos existentes en el archivo \"c2022_tp_c_resumen_adaptado.csv\" con un nombre ingresado por teclado.\n",
    "Si ya existe un archivo con el nombre ingresado, lo sobreescribe"
   ]
  },
  {
   "cell_type": "code",
   "execution_count": null,
   "metadata": {},
   "outputs": [],
   "source": [
    "from modules import censo2022 as cd\n",
    "from pathlib import Path\n",
    "name = input('Ingrese nombre de arhivo para crear o sobreescribir') + '.csv'\n",
    "file_route = Path('datasets')/ 'c2022_tp_c_resumen_adaptado.csv'\n",
    "new_file_route = Path('datasets_custom')/name\n",
    "cd.create_modified_file(new_file_route + '.csv')"
   ]
  }
 ],
 "metadata": {
  "kernelspec": {
   "display_name": "venv",
   "language": "python",
   "name": "python3"
  },
  "language_info": {
   "codemirror_mode": {
    "name": "ipython",
    "version": 3
   },
   "file_extension": ".py",
   "mimetype": "text/x-python",
   "name": "python",
   "nbconvert_exporter": "python",
   "pygments_lexer": "ipython3",
   "version": "3.10.7"
  }
 },
 "nbformat": 4,
 "nbformat_minor": 2
}
