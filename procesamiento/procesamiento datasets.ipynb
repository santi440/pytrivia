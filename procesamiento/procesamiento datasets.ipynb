{
 "cells": [
  {
   "cell_type": "markdown",
   "metadata": {},
   "source": [
    "## Procesamiento de DataSets\n"
   ]
  },
  {
   "cell_type": "markdown",
   "metadata": {},
   "source": [
    "### Procesamiento dataset n1\n"
   ]
  },
  {
   "cell_type": "code",
   "execution_count": 16,
   "metadata": {},
   "outputs": [],
   "source": [
    "import csv\n",
    "from pathlib import Path\n",
    "\n",
    "path_read= Path ('./datasets/ar-airports.csv')\n",
    "path_write= Path ('./datasets_custom/ar-airports-custom.csv')\n"
   ]
  },
  {
   "cell_type": "markdown",
   "metadata": {},
   "source": [
    "Se hace el import de la libreria csv y de la funcion Path de la liberaria pathlib. Se declara en dos variables diferentes los paths a los archivos.\n"
   ]
  },
  {
   "cell_type": "code",
   "execution_count": 17,
   "metadata": {},
   "outputs": [],
   "source": [
    "lectura = open (path_read, mode='r',encoding= 'UTF-8') \n",
    "escritura= open(path_write ,mode='w',encoding= 'UTF-8' ,newline= '') \n"
   ]
  },
  {
   "cell_type": "markdown",
   "metadata": {},
   "source": [
    "Se abre el archivo de lectura en modo lectura ('r') y el archivo de escritura en modo escritura ('w'). También se especifica la codificación (UTF-8) y se establece newline=' ' para manejar los saltos de línea."
   ]
  },
  {
   "cell_type": "code",
   "execution_count": 18,
   "metadata": {},
   "outputs": [],
   "source": [
    "lectorcsv= csv.reader(lectura)\n",
    "escritorcsv= csv.writer (escritura)"
   ]
  },
  {
   "cell_type": "markdown",
   "metadata": {},
   "source": [
    "Se crea un lector CSV (lectorcsv) para leer el archivo de entrada y un escritor CSV (escritorcsv) para escribir en el archivo de salida."
   ]
  },
  {
   "cell_type": "code",
   "execution_count": 19,
   "metadata": {},
   "outputs": [
    {
     "data": {
      "text/plain": [
       "260"
      ]
     },
     "execution_count": 19,
     "metadata": {},
     "output_type": "execute_result"
    }
   ],
   "source": [
    "encabezado = next(lectorcsv)\n",
    "encabezado.append ('elevation_name')\n",
    "escritorcsv.writerow (encabezado)"
   ]
  },
  {
   "cell_type": "markdown",
   "metadata": {},
   "source": [
    "Se lee la primera fila del archivo de entrada para obtener el encabezado. Luego, se agrega la cadena 'elevation_name' al encabezado. El encabezado actualizado se escribe en el archivo de salida."
   ]
  },
  {
   "cell_type": "code",
   "execution_count": 20,
   "metadata": {},
   "outputs": [],
   "source": [
    "for fila in lectorcsv:\n",
    "        try: \n",
    "            elevacion = float(fila[6])\n",
    "            if elevacion <= 131:\n",
    "                elevation_name= 'bajo'\n",
    "            elif elevacion <=903:\n",
    "                elevation_name= 'medio'\n",
    "            else:   \n",
    "                elevation_name='alto'\n",
    "\n",
    "            fila.append(elevation_name)\n",
    "            escritorcsv.writerow(fila)\n",
    "\n",
    "        except ValueError: \n",
    "            fila.append ('Sin altura')\n",
    "            escritorcsv.writerow(fila)"
   ]
  },
  {
   "cell_type": "markdown",
   "metadata": {},
   "source": [
    "Para cada fila restante en el archivo de entrada se intenta convertir el valor en la sexta columna (la cual es la elevacion del aeropuerto) a un número flotante. Si la conversión es exitosa, se procede a determinar la categoría de elevación ('bajo', 'medio' o 'alto') y se agrega al archivo csv en la columna creada previamente. Si la conversión falla (porque la linea esta vacia o no es un numero), se captura la excepción ValueError y se agrega la cadena 'Sin altura' a la fila.\n"
   ]
  }
 ],
 "metadata": {
  "kernelspec": {
   "display_name": "Python 3",
   "language": "python",
   "name": "python3"
  },
  "language_info": {
   "codemirror_mode": {
    "name": "ipython",
    "version": 3
   },
   "file_extension": ".py",
   "mimetype": "text/x-python",
   "name": "python",
   "nbconvert_exporter": "python",
   "pygments_lexer": "ipython3",
   "version": "3.11.7"
  }
 },
 "nbformat": 4,
 "nbformat_minor": 2
}
