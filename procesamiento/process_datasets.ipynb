{
 "cells": [
  {
   "cell_type": "markdown",
   "metadata": {},
   "source": [
    "Importo el módulo \"censo2022\" desde la carpeta \"modules\" e invoco a la función \"create_modified_file\" para generar un nuevo archivo .csv en el directorio \"datasets_custom\" a partir de los datos existentes en el archivo \"c2022_tp_c_resumen_adaptado.csv\" con un nombre ingresado por teclado.\n",
    "Si ya existe un archivo con el nombre ingresado, lo sobreescribe"
   ]
  },
  {
   "cell_type": "code",
   "execution_count": 3,
   "metadata": {},
   "outputs": [
    {
     "ename": "TypeError",
     "evalue": "unsupported operand type(s) for +: 'WindowsPath' and 'str'",
     "output_type": "error",
     "traceback": [
      "\u001b[1;31m---------------------------------------------------------------------------\u001b[0m",
      "\u001b[1;31mTypeError\u001b[0m                                 Traceback (most recent call last)",
      "Cell \u001b[1;32mIn[3], line 7\u001b[0m\n\u001b[0;32m      5\u001b[0m file_route \u001b[39m=\u001b[39m Path(\u001b[39m'\u001b[39m\u001b[39m..\u001b[39m\u001b[39m'\u001b[39m,\u001b[39m'\u001b[39m\u001b[39mdatasets\u001b[39m\u001b[39m'\u001b[39m)\u001b[39m/\u001b[39m \u001b[39m'\u001b[39m\u001b[39mc2022_tp_c_resumen_adaptado.csv\u001b[39m\u001b[39m'\u001b[39m\n\u001b[0;32m      6\u001b[0m new_file_route \u001b[39m=\u001b[39m Path(\u001b[39m'\u001b[39m\u001b[39m..\u001b[39m\u001b[39m'\u001b[39m,\u001b[39m'\u001b[39m\u001b[39mdatasets_custom\u001b[39m\u001b[39m'\u001b[39m)\u001b[39m/\u001b[39mname\n\u001b[1;32m----> 7\u001b[0m cd\u001b[39m.\u001b[39mcreate_modified_file(new_file_route \u001b[39m+\u001b[39;49m \u001b[39m'\u001b[39;49m\u001b[39m.csv\u001b[39;49m\u001b[39m'\u001b[39;49m)\n",
      "\u001b[1;31mTypeError\u001b[0m: unsupported operand type(s) for +: 'WindowsPath' and 'str'"
     ]
    }
   ],
   "source": [
    "import censo2022 as cd\n",
    "from pathlib import Path\n",
    "\n",
    "name = input('Ingrese nombre de arhivo para crear o sobreescribir') + '.csv'\n",
    "file_route = Path('..','datasets')/ 'c2022_tp_c_resumen_adaptado.csv'\n",
    "new_file_route = Path('..','datasets_custom')/name\n",
    "cd.create_modified_file(new_file_route + '.csv')"
   ]
  },
  {
   "cell_type": "markdown",
   "metadata": {},
   "source": [
    "Haciendo uso de la funcion \"create_modified_file()\" de modules/Conexiones_internet, se genera un nuevo archivo con una nueva columna de conectividad"
   ]
  },
  {
   "cell_type": "code",
   "execution_count": 2,
   "metadata": {},
   "outputs": [],
   "source": [
    "import Conectividad_internet as connectivity\n",
    "connectivity.create_modified_file()"
   ]
  }
 ],
 "metadata": {
  "kernelspec": {
   "display_name": "venv",
   "language": "python",
   "name": "python3"
  },
  "language_info": {
   "codemirror_mode": {
    "name": "ipython",
    "version": 3
   },
   "file_extension": ".py",
   "mimetype": "text/x-python",
   "name": "python",
   "nbconvert_exporter": "python",
   "pygments_lexer": "ipython3",
   "version": "3.11.4"
  }
 },
 "nbformat": 4,
 "nbformat_minor": 2
}
