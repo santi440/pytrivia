{
 "cells": [
  {
   "cell_type": "markdown",
   "metadata": {},
   "source": [
    "## Ejercicio de consulta 1)"
   ]
  },
  {
   "cell_type": "markdown",
   "metadata": {},
   "source": [
    "Se realiza el import de la libreria csv y la funcion path de la libreria pathlib. De declara la ruta del archivo que se analizara."
   ]
  },
  {
   "cell_type": "code",
   "execution_count": 82,
   "metadata": {},
   "outputs": [],
   "source": [
    "import csv\n",
    "from pathlib import Path\n",
    "actpath= Path.cwd()\n",
    "input_file = Path ('../datasets_custom/ar-airports-custom.csv')"
   ]
  },
  {
   "cell_type": "markdown",
   "metadata": {},
   "source": [
    "Se abre el archivo en modo lectura y se declara un writer para recorrerlo."
   ]
  },
  {
   "cell_type": "code",
   "execution_count": 83,
   "metadata": {},
   "outputs": [],
   "source": [
    "lectura= open (input_file, mode='r', encoding='UTF-8')\n",
    "lector= csv.reader(lectura)"
   ]
  },
  {
   "cell_type": "markdown",
   "metadata": {},
   "source": [
    "Se realiza un for que recorra todo el archivo, accediendo a la columa type. Cada vez que se lee un valor diferente a los que ya han sido leidos, se agrega a la lista types."
   ]
  },
  {
   "cell_type": "code",
   "execution_count": 84,
   "metadata": {},
   "outputs": [],
   "source": [
    "types= []\n",
    "next(lector)\n",
    "for line in lector:\n",
    "  if not line[2] in types:\n",
    "    types.append (line[2]) \n"
   ]
  },
  {
   "cell_type": "markdown",
   "metadata": {},
   "source": [
    "Se imprime la lista con un for para que se vea de manera mas clara"
   ]
  },
  {
   "cell_type": "code",
   "execution_count": 85,
   "metadata": {},
   "outputs": [
    {
     "name": "stdout",
     "output_type": "stream",
     "text": [
      "Tipos de aeropuertos:\n",
      "1) large_airport\n",
      "2) medium_airport\n",
      "3) closed\n",
      "4) small_airport\n",
      "5) heliport\n",
      "6) balloonport\n"
     ]
    }
   ],
   "source": [
    "print ('Tipos de aeropuertos:')\n",
    "\n",
    "for i,type in enumerate (types, start=1):\n",
    "  print (f'{i}) {type}') "
   ]
  }
 ],
 "metadata": {
  "kernelspec": {
   "display_name": "Python 3",
   "language": "python",
   "name": "python3"
  },
  "language_info": {
   "codemirror_mode": {
    "name": "ipython",
    "version": 3
   },
   "file_extension": ".py",
   "mimetype": "text/x-python",
   "name": "python",
   "nbconvert_exporter": "python",
   "pygments_lexer": "ipython3",
   "version": "3.11.7"
  }
 },
 "nbformat": 4,
 "nbformat_minor": 2
}
