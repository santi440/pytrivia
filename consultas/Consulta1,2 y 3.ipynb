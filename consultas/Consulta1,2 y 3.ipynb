{
 "cells": [
  {
   "cell_type": "markdown",
   "metadata": {},
   "source": [
    "## Ejercicio de consulta 1)"
   ]
  },
  {
   "cell_type": "markdown",
   "metadata": {},
   "source": [
    "Se realiza el import de la libreria csv y la funcion path de la libreria pathlib. De declara la ruta del archivo que se analizara."
   ]
  },
  {
   "cell_type": "code",
   "execution_count": null,
   "metadata": {},
   "outputs": [],
   "source": [
    "import csv\n",
    "from pathlib import Path\n",
    "actpath= Path.cwd()\n",
    "input_file = Path ('../datasets_custom/ar-airports-custom.csv')"
   ]
  },
  {
   "cell_type": "markdown",
   "metadata": {},
   "source": [
    "Se abre el archivo en modo lectura y se declara un writer para recorrerlo."
   ]
  },
  {
   "cell_type": "code",
   "execution_count": null,
   "metadata": {},
   "outputs": [],
   "source": [
    "lectura= open (input_file, mode='r', encoding='UTF-8')\n",
    "lector= csv.reader(lectura)"
   ]
  },
  {
   "cell_type": "markdown",
   "metadata": {},
   "source": [
    "Se realiza un for que recorra todo el archivo, accediendo a la columa type. Cada vez que se lee un valor diferente a los que ya han sido leidos, se agrega a la lista types."
   ]
  },
  {
   "cell_type": "code",
   "execution_count": null,
   "metadata": {},
   "outputs": [],
   "source": [
    "types= []\n",
    "next(lector)\n",
    "for line in lector:\n",
    "  if not line[2] in types:\n",
    "    types.append (line[2]) \n"
   ]
  },
  {
   "cell_type": "markdown",
   "metadata": {},
   "source": [
    "Se imprime la lista con un for para que se vea de manera mas clara"
   ]
  },
  {
   "cell_type": "code",
   "execution_count": null,
   "metadata": {},
   "outputs": [],
   "source": [
    "print ('Tipos de aeropuertos:')\n",
    "\n",
    "for i,type in enumerate (types, start=1):\n",
    "  print (f'{i}) {type}') "
   ]
  },
  {
   "cell_type": "markdown",
   "metadata": {},
   "source": [
    "## Ejercicio de consulta 2)"
   ]
  },
  {
   "cell_type": "markdown",
   "metadata": {},
   "source": [
    "Como necesitamos volver a iterar sobre el mismo archivo, se cierra y se vuelve a abrir para reiniciar el lector."
   ]
  },
  {
   "cell_type": "code",
   "execution_count": null,
   "metadata": {},
   "outputs": [],
   "source": [
    "lectura.close\n",
    "lectura= open (input_file, mode='r', encoding='UTF-8')\n",
    "lector= csv.reader(lectura)\n",
    "next(lector)"
   ]
  },
  {
   "cell_type": "markdown",
   "metadata": {},
   "source": [
    "Se le pide al usuario que ingrese un tipo de elevacion (alto, medio o bajo) para imprimir aquellos aeropuertos con dicha elevacion.\n"
   ]
  },
  {
   "cell_type": "code",
   "execution_count": null,
   "metadata": {},
   "outputs": [],
   "source": [
    "elevacion= input ('Ingrese el tipo de elevacion (alto, medio o bajo)')"
   ]
  },
  {
   "cell_type": "markdown",
   "metadata": {},
   "source": [
    "Se realiza un for agregando en la lista airports aquellos aeropuertos con el valor de elevacion ingresado por teclado."
   ]
  },
  {
   "cell_type": "code",
   "execution_count": null,
   "metadata": {},
   "outputs": [],
   "source": [
    "airports=[]\n",
    "\n",
    "for line in lector: \n",
    "  if line[23]== elevacion:\n",
    "    airports.append (line[3])\n"
   ]
  },
  {
   "cell_type": "markdown",
   "metadata": {},
   "source": [
    "Se imprimen los aeropuertos de la lista con un for para que se vea de manera mas clara."
   ]
  },
  {
   "cell_type": "code",
   "execution_count": null,
   "metadata": {},
   "outputs": [],
   "source": [
    "print (f'Aeropuertos con un valor de elevacion {elevacion}:')\n",
    "\n",
    "for i,airport in enumerate (airports, start=1):\n",
    "  print (f'{i}) {airport}') "
   ]
  },
  {
   "cell_type": "markdown",
   "metadata": {},
   "source": [
    "## Ejercicio de consulta 3)"
   ]
  },
  {
   "cell_type": "markdown",
   "metadata": {},
   "source": [
    "Como necesitamos volver a iterar sobre el mismo archivo, se cierra y se vuelve a abrir para reiniciar el lector."
   ]
  },
  {
   "cell_type": "code",
   "execution_count": null,
   "metadata": {},
   "outputs": [],
   "source": [
    "lectura.close\n",
    "lectura= open (input_file, mode='r', encoding='UTF-8')\n",
    "lector= csv.reader(lectura)\n",
    "next(lector)"
   ]
  },
  {
   "cell_type": "markdown",
   "metadata": {},
   "source": [
    "Se le pide al usuario que ingrese un valor de elevacion en pies para imprimir aquellos aeropuertos con elevacion mayor o menor a esta.\n"
   ]
  },
  {
   "cell_type": "code",
   "execution_count": null,
   "metadata": {},
   "outputs": [],
   "source": [
    "elevation_value= input ('Ingrese un valor de elevacion en pies (numero entero)')"
   ]
  },
  {
   "cell_type": "markdown",
   "metadata": {},
   "source": [
    "Se realiza un for agregando en diferentes listas los aeropuertos con un valor de elevacion menor o mayor al ingresado por teclado."
   ]
  },
  {
   "cell_type": "code",
   "execution_count": null,
   "metadata": {},
   "outputs": [],
   "source": [
    "mayores=[]\n",
    "menores=[]\n",
    "\n",
    "for line in lector: \n",
    "  if line[6]< elevation_value:\n",
    "    menores.append (line[3])\n",
    "  else:\n",
    "    mayores.append (line[3])\n"
   ]
  },
  {
   "cell_type": "markdown",
   "metadata": {},
   "source": [
    "Se imprimen los aeropuertos de ambas listas con un for para que se vea de manera mas clara."
   ]
  },
  {
   "cell_type": "code",
   "execution_count": null,
   "metadata": {},
   "outputs": [],
   "source": [
    "print (f'Aeropuertos con un valor de elevacion menor a {elevation_value}:')\n",
    "\n",
    "for i,menor in enumerate (menores, start=1):\n",
    "  print (f'{i}) {menor}') \n"
   ]
  },
  {
   "cell_type": "code",
   "execution_count": null,
   "metadata": {},
   "outputs": [],
   "source": [
    "print (f'Aeropuertos con un valor de elevacion mayor a {elevation_value}:')\n",
    "\n",
    "for i,mayor in enumerate (mayores, start=1):\n",
    "  print (f'{i}) {mayor}') "
   ]
  }
 ],
 "metadata": {
  "kernelspec": {
   "display_name": "Python 3",
   "language": "python",
   "name": "python3"
  },
  "language_info": {
   "codemirror_mode": {
    "name": "ipython",
    "version": 3
   },
   "file_extension": ".py",
   "mimetype": "text/x-python",
   "name": "python",
   "nbconvert_exporter": "python",
   "pygments_lexer": "ipython3",
   "version": "3.11.7"
  }
 },
 "nbformat": 4,
 "nbformat_minor": 2
}
