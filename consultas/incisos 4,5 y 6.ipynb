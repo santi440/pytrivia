{
 "cells": [
  {
   "cell_type": "markdown",
   "metadata": {},
   "source": [
    "Importo el modulo que se encarga de procesar los datasets y devolverme los aeropuertos, lagos y tipo de conectividad de las provincias que cumplan la condicion dada por el usaurio\n",
    "###### inciso 4"
   ]
  },
  {
   "cell_type": "code",
   "execution_count": null,
   "metadata": {},
   "outputs": [],
   "source": [
    "from funciones import demografia"
   ]
  },
  {
   "cell_type": "code",
   "execution_count": null,
   "metadata": {},
   "outputs": [],
   "source": [
    "censo = Path('..','datasets') / \"c2022_tp_c_resumen_adaptado.csv\"\n",
    "aeropuertos = Path('..','datasets_custom') / \"ar-airports.csv\"\n",
    "lagos = Path('..','datasets') / \"lagos_arg.csv\"\n",
    "conectividad = Path('..','datasets_custom') / \"Conectividad_Internet.csv\"\n",
    "\n",
    "provinces = demografia.mostrarSegunPoblacion(censo,aeropuertos,lagos,conectividad)\n",
    "print(provinces)"
   ]
  },
  {
   "cell_type": "markdown",
   "metadata": {},
   "source": [
    "Importo el modulo que se encarga de procesar los datasets e imprimir los aeropuertos que estan en las capitales de las jurisdicciones argentinas\n",
    "###### inciso 5"
   ]
  },
  {
   "cell_type": "code",
   "execution_count": null,
   "metadata": {},
   "outputs": [],
   "source": [
    "from funciones import capitales_y_aeropuertos as cya"
   ]
  },
  {
   "cell_type": "code",
   "execution_count": null,
   "metadata": {},
   "outputs": [],
   "source": [
    "cya.aeropuertos_en_capital()"
   ]
  },
  {
   "cell_type": "markdown",
   "metadata": {},
   "source": [
    "Importo el modulo que se encarga de procesar los datasets e imprimir los lagos de acuerdo a un valor que ingresa el usuario\n",
    "###### inciso 6"
   ]
  },
  {
   "cell_type": "code",
   "execution_count": null,
   "metadata": {},
   "outputs": [],
   "source": [
    "from funciones import lagos_tamaño as lakes"
   ]
  },
  {
   "cell_type": "code",
   "execution_count": null,
   "metadata": {},
   "outputs": [],
   "source": [
    "lakes.lakes_filter()"
   ]
  }
 ],
 "metadata": {
  "kernelspec": {
   "display_name": "jupyter",
   "language": "python",
   "name": "python3"
  },
  "language_info": {
   "codemirror_mode": {
    "name": "ipython",
    "version": 3
   },
   "file_extension": ".py",
   "mimetype": "text/x-python",
   "name": "python",
   "nbconvert_exporter": "python",
   "pygments_lexer": "ipython3",
   "version": "3.11.4"
  },
  "orig_nbformat": 4
 },
 "nbformat": 4,
 "nbformat_minor": 2
}
