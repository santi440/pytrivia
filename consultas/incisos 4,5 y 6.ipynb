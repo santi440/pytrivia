{
 "cells": [
  {
   "cell_type": "markdown",
   "metadata": {},
   "source": [
    "Importo el modulo que se encarga de procesar los datasets y devolverme los aeropuertos, lagos y tipo de conectividad de las provincias que cumplan la condicion dada por el usaurio\n",
    "###### inciso 4"
   ]
  },
  {
   "cell_type": "code",
   "execution_count": 1,
   "metadata": {},
   "outputs": [],
   "source": [
    "import demografia"
   ]
  },
  {
   "cell_type": "code",
   "execution_count": 2,
   "metadata": {},
   "outputs": [
    {
     "ename": "IndexError",
     "evalue": "list index out of range",
     "output_type": "error",
     "traceback": [
      "\u001b[1;31m---------------------------------------------------------------------------\u001b[0m",
      "\u001b[1;31mIndexError\u001b[0m                                Traceback (most recent call last)",
      "Cell \u001b[1;32mIn[2], line 1\u001b[0m\n\u001b[1;32m----> 1\u001b[0m provinces \u001b[39m=\u001b[39m demografia\u001b[39m.\u001b[39;49mmostrarSegunPoblacion()\n\u001b[0;32m      2\u001b[0m \u001b[39mprint\u001b[39m(provinces)\n",
      "File \u001b[1;32mc:\\Users\\Administrador\\Desktop\\facu\\python\\practica 3\\grupo24\\consulta\\demografia.py:129\u001b[0m, in \u001b[0;36mmostrarSegunPoblacion\u001b[1;34m()\u001b[0m\n\u001b[0;32m    126\u001b[0m provincias \u001b[39m=\u001b[39m __filtrar_provincias_por_poblacion(ecuacion, datos_censo[\u001b[39m2\u001b[39m:])\n\u001b[0;32m    128\u001b[0m datos_aeropuertos \u001b[39m=\u001b[39m __leer_archivo_csv(aeropuertos)\n\u001b[1;32m--> 129\u001b[0m __agregar_aeropuertos_a_provincias(datos_aeropuertos, provincias)\n\u001b[0;32m    131\u001b[0m datos_lagos \u001b[39m=\u001b[39m __leer_archivo_csv(lagos)\n\u001b[0;32m    132\u001b[0m __agregar_lagos_a_provincias(datos_lagos, provincias)\n",
      "File \u001b[1;32mc:\\Users\\Administrador\\Desktop\\facu\\python\\practica 3\\grupo24\\consulta\\demografia.py:107\u001b[0m, in \u001b[0;36m__agregar_aeropuertos_a_provincias\u001b[1;34m(datos_aeropuertos, provincias)\u001b[0m\n\u001b[0;32m     99\u001b[0m \u001b[39m\u001b[39m\u001b[39m\"\"\"\u001b[39;00m\n\u001b[0;32m    100\u001b[0m \u001b[39mAgrega información de aeropuertos a las provincias correspondientes.\u001b[39;00m\n\u001b[0;32m    101\u001b[0m \n\u001b[1;32m   (...)\u001b[0m\n\u001b[0;32m    104\u001b[0m \u001b[39m    provincias (dict): Un diccionario que contiene las provincias a las que se agregarán los datos de los aeropuertos.\u001b[39;00m\n\u001b[0;32m    105\u001b[0m \u001b[39m\"\"\"\u001b[39;00m\n\u001b[0;32m    106\u001b[0m \u001b[39mfor\u001b[39;00m line \u001b[39min\u001b[39;00m datos_aeropuertos:\n\u001b[1;32m--> 107\u001b[0m         \u001b[39mif\u001b[39;00m (line[\u001b[39m24\u001b[39;49m] \u001b[39min\u001b[39;00m provincias):\n\u001b[0;32m    108\u001b[0m             provincias[line[\u001b[39m24\u001b[39m]][\u001b[39m\"\u001b[39m\u001b[39maeropuertos\u001b[39m\u001b[39m\"\u001b[39m]\u001b[39m.\u001b[39mappend(line[\u001b[39m3\u001b[39m])\n",
      "\u001b[1;31mIndexError\u001b[0m: list index out of range"
     ]
    }
   ],
   "source": [
    "provinces = demografia.mostrarSegunPoblacion()\n",
    "print(provinces)"
   ]
  },
  {
   "cell_type": "markdown",
   "metadata": {},
   "source": [
    "Importo el modulo que se encarga de procesar los datasets e imprimir los aeropuertos que estan en las capitales de las jurisdicciones argentinas\n",
    "###### inciso 5"
   ]
  },
  {
   "cell_type": "code",
   "execution_count": null,
   "metadata": {},
   "outputs": [],
   "source": [
    "import capitales_y_aeropuertos as cya"
   ]
  },
  {
   "cell_type": "code",
   "execution_count": null,
   "metadata": {},
   "outputs": [],
   "source": [
    "cya.aeropuertos_en_capital()"
   ]
  },
  {
   "cell_type": "markdown",
   "metadata": {},
   "source": [
    "Importo el modulo que se encarga de procesar los datasets e imprimir los lagos de acuerdo a un valor que ingresa el usuario\n",
    "###### inciso 6"
   ]
  },
  {
   "cell_type": "code",
   "execution_count": null,
   "metadata": {},
   "outputs": [],
   "source": [
    "import lagos_tamaño as lakes"
   ]
  },
  {
   "cell_type": "code",
   "execution_count": null,
   "metadata": {},
   "outputs": [],
   "source": [
    "lakes.lakes_filter()"
   ]
  }
 ],
 "metadata": {
  "kernelspec": {
   "display_name": "jupyter",
   "language": "python",
   "name": "python3"
  },
  "language_info": {
   "codemirror_mode": {
    "name": "ipython",
    "version": 3
   },
   "file_extension": ".py",
   "mimetype": "text/x-python",
   "name": "python",
   "nbconvert_exporter": "python",
   "pygments_lexer": "ipython3",
   "version": "3.11.4"
  },
  "orig_nbformat": 4
 },
 "nbformat": 4,
 "nbformat_minor": 2
}
