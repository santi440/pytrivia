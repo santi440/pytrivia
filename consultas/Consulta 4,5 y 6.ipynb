{
 "cells": [
  {
   "cell_type": "markdown",
   "metadata": {},
   "source": [
    "Importo el la clase Path desde pathlib para manejar rutas de archivos en mas de un sistema operativo "
   ]
  },
  {
   "cell_type": "code",
   "execution_count": 1,
   "metadata": {},
   "outputs": [],
   "source": [
    "from pathlib import Path"
   ]
  },
  {
   "cell_type": "markdown",
   "metadata": {},
   "source": [
    "Importo el modulo que se encarga de procesar los datasets y devolverme los aeropuertos, lagos y tipo de conectividad de las provincias que cumplan la condicion dada por el usaurio\n",
    "###### inciso 4"
   ]
  },
  {
   "cell_type": "code",
   "execution_count": 7,
   "metadata": {},
   "outputs": [],
   "source": [
    "from funciones import demografia"
   ]
  },
  {
   "cell_type": "code",
   "execution_count": 10,
   "metadata": {},
   "outputs": [],
   "source": [
    "import os\n",
    "os.chdir('C:/Users/Administrador/Desktop/facu/python/practica 3/grupo24')\n",
    "\n",
    "censo = Path('datasets_custom') / \"Censo_Modificado.csv\"\n",
    "aeropuertos = Path('datasets_custom') / \"ar-airports-custom.csv\"\n",
    "lagos = Path('datasets_custom') / \"lagos_arg_custom.csv\"\n",
    "conectividad = Path('datasets_custom') / \"Conectividad_Internet.csv\"\n",
    "\n",
    "provinces = demografia.filtrar_segun_poblacion(censo,aeropuertos,lagos,conectividad)"
   ]
  },
  {
   "cell_type": "markdown",
   "metadata": {},
   "source": [
    "Para verificar que el output este bien\n",
    "En el dataset de lagos no todas las jurisdicciones tienen lagos"
   ]
  },
  {
   "cell_type": "code",
   "execution_count": 11,
   "metadata": {},
   "outputs": [
    {
     "name": "stdout",
     "output_type": "stream",
     "text": [
      "Provincia: Ciudad Autónoma de Buenos Aires\n",
      "   aeropuertos : ['Jorge Newbery Airpark', 'Dines (Doctor E. Escudero) Heliport', 'Buenos Aires City Oscar and Juan Gálvez Autodrome Heliport', 'B. Churruca Heliport', 'Centinela Heliport', 'Darsena Sur Heliport', 'Fuerza Aérea(Edificio Cóndor) Heliport', 'Professor Juan P Garrahan National Pediatric Hospital Heliport', 'Madero Heliport', 'Argentine Naval Prefecture Principal Official Ballestra Heliport', 'Presidencia De La Nación Heliport', 'Sanatorio Guemes Heliport', 'Swiss Medical Heliport', 'Madero Harbour Helipad']\n",
      "   lagos : []\n",
      "   tipos_conectividad : ['ADSL', 'CABLEMODEM', 'DIALUP', 'FIBRAOPTICA', 'SATELITAL', 'WIRELESS', 'TELEFONIAFIJA', '3G', '4G']\n",
      "Provincia: Buenos Aires\n",
      "   aeropuertos : ['Minister Pistarini International Airport', 'San Fernando Airport', 'Comandante Espora Airport', 'Ástor Piazzola International Airport', 'El Palomar Airport', 'Pergamino Airport', 'Morón Airport', 'Don Torcuato Airport', 'Zarate Airport', 'Santa Teresita Airport', 'Ezpeleta Airport', 'Héroes De Malvinas Airport', 'Villa Gesell Airport', 'San Andrés de Giles Airport', 'Escobar Aeroclub', 'General Rodriguez Airport', 'Mariano Moreno Airport', 'Isla Martin Garcia Airport', 'Matanza Airport', 'Lobos Airport', 'Luján Airport', 'Mercedes Airport', 'Pigüé Airport', 'Quilmes Airport', 'Salto Airport', 'La Plata Airport', 'Comodoro Pedro Zanni Airport', 'Arrecifes Aeroclub Airport', 'Azul Airport', 'Baradero Airport', 'Benavidez Airport', 'Bolívar Airport', 'Bragado Airport', 'Brandsen Airport', 'Campo de Mayo Military Airport', 'Cañuelas Airport', 'Aeroclub Capitan Sarmiento', 'Carmen de Areco Airport', 'Chacabuco Airport', 'Chascomús Airport', 'Chivilcoy Airport', 'Daireaux Airport', 'El Pajaro Airport', 'General Belgrano Airport', 'General Las Heras Aeroclub', 'General Rodriguez Ildefonso Durana Airport', 'Los Toldos Airport', 'Gonzalez Chaves Airport', 'Tres Lomas Airport', 'Tolosa Airport', 'Las Flores Airport', 'Lincoln Airport', 'La Caida Airport', 'Batan Airport', 'Marcos Paz Airfield', 'Fumigaciones Ortega Airport', 'Valle Del Conlara International Airport', 'Navarro Airport', 'Olavarria Airport', 'La Noria Agricultural Airport', 'Pinamar Airport', 'Saladillo Airport', 'San Antonio de Areco Airport', 'San Miguel del Monte Airport', 'San Nicolas de los Arroyos Airport', 'Punta Indio Naval Air Base', 'Necochea Airport', 'Tres Arroyos Airport', 'Merlo Airport', 'La Sistina Airstrip', 'Ameghino Airport', 'La Chacra Airport', 'Sigfrido Rohr Aviagro S.R.L. Airport', 'Augusto Leguizamon Airport', 'La Cura Malal Airport', 'Arribeños Airport', 'Ayacucho Airport', 'Bahia Blanca Aeroclub Airport', 'Algarrobo/La Reforma Airport', 'Haras Wassermann Airport', 'Balcarce Aeroclub Airport', 'Estancia Los Cardos Airport', 'Estancia La Alborada', 'Benito Juarez Airport', 'Malfatto Airport', 'Mahmet Fumigaciones Aereas Airport', 'Agroaereo Bragado Airport', 'Cabildo Airport', 'Quebracho Herrado Airport', 'San Patricio Airport', 'Estancia La Elisa Airport', 'Carhue Airport', 'Fumagro Airport', 'Haydee Airport', 'Carlos Casares Airport', 'Malatini Airport', 'Ottaviani Airport', 'Carlos Tejedor Airport', 'Carmen de Patagones Airport', 'Castelli Airport', 'Las 2 A Airport', 'Haras Trelliris Airport', 'Laguna El Abuelo Airstrip', 'Copetonas Airport', 'El Manantial Airport', 'Coronel Dorrego Airport', 'Coronel Pringles Airport', 'Brigadier D.H.E. Ruiz Airport', 'Coronel Vidal Airport', 'Fumigaciones Rodriguez Airport', 'Darregueira Airport', 'General Alvear Airport', 'General La Madrid Airport', 'General Madariaga Airport', 'Alfredo Sanchez Airport', 'General Pinto Airport', 'General San Martin (La Pampa) Airport', 'General Villegas Airport', 'El Girasol Airport', 'Gomez Airport', 'Henderson Airport', 'Huanguelen Airport', 'Fumigaciones Fredy Airport', 'Belingueres Aviación Airport', 'Establecimiento La Susana', 'Ituzaingo Airport', 'La Madrugada Airport', 'Elizalde Airport', 'Laguna De Gomez Airport', 'Laprida Airport', 'La Esmeralda Airport', 'La Nueva Airport', 'Loberia Airport', 'Nika Airport', 'Bahía de los Moros Airport', 'La Fantasia', 'Estancia Villa María', 'Match Point Airport', 'Parque Hermoso Airport', 'Mar del Plata Gliding Club', 'Estancia Lucila Airport', 'Agrocelta Servicios Aereos Airport', 'Estancia Santa Romana Airport', 'Mercedes Airport', 'Merlo Airport', 'Miramar Airport', 'Bellamar Airport', 'Las Cortaderas Airport', 'Monte Grande Airport', 'Iriberri Airport', 'Pulverizaciones Aerosur Airport', 'Campomar Airport', 'Norberto de La Riestra Airport', 'Olavarria Aeroclub Airport', 'Las Lilas Airport', 'Pedro Luro Airport', 'La Mariela Airport', 'Pellegrini Airport', 'Servicios Aeronauticos', 'Poblet Airport', 'Puán Airport', 'Buenos Aires Airport', 'Puerto Rosales Airport', 'Punta Alta Airport', 'Moromar Airport', 'Quequén Airport', 'La Igualdad Airport', 'Rauch Airport', 'Fumigaciones Herbinsec Airport', 'Aeroagereo', 'La Amalia', 'Fumigaciones Herbinsec Airport', 'Rojas Airport', 'Saavedra Airport', 'Parajon Airport', 'Santa Rita Airport', 'Abelenda Airport', 'Estancia El Triángulo Airport', 'Saldungaray Airport', 'Santo Tomás de La Sierra Airport', 'Salliqueló Airport', 'Skare Airport', 'Laguna Aeroclub Airport', 'El Mirador', 'LAD 2198 Juan Jose Angelini', 'Haras La Pomme Airport', 'San Cayetano Heliport', 'San Cayetano Airport', 'Fortín De Gainza Airport', 'Estancia 13 de Abril Airport', 'Stroeder Airport', 'Stroeder Southeast Airport', 'Estancia La Estrella Airport', 'Tandil Aeroclub Airport', 'Comandante Eduardo A. Olivero Airport', 'Tornquist Airport', 'Trenque Lauquen Airport', 'Ñanco Lauquen Airport', 'La Argentina Airport', 'Petrazzini Airport', 'Santagiulian Airport', 'Vedia Aeroclub', 'Veinticinco De Mayo Airport', 'Veronica Airport', 'Estancia La Criolla Airport', 'Servicios Agroaereos Airport', 'Estancia El Reducto Airport', 'Polisur S.A. Heliport', 'Cabaña San Isidro Labrador Heliport', 'Legat S.A. Heliport', 'Transener S.A. Heliport', 'La Madrugada Heliport', 'Las Araucarias Heliport', 'Los Fresnos Heliport', 'San Joaquín Heliport', 'El Capricho Heliport', 'La Caldera Heliport', 'Helicenter Heliport', 'Tecnocopter S.A. Heliport', 'Timen S.A. Heliport', 'Transener S.A. Heliport', 'Miraflores Country Club Heliport', 'Unidad Penitenciaria N° 30 Heliport', 'San Isidro Labrador Heliport', 'Manuel Afonso Heliport', 'Sub-Inspector Official Gustavo Soarez de Souza Heliport', 'Terminal Y.P.F. Heliport', 'D.P.A.O. Heliport', 'Ecodyma S.C.A. Heliport', 'Policlinico San Martin Heliport', 'Match Point Heliport', 'Sol De Agosto Heliport', 'Transener S.A. Heliport', 'Saturnino Unzue Heliport', 'Heliwest Heliport', 'La Superba Heliport', 'Hospital Municipal Heliport', 'Sarthou S.A. Heliport', 'Isla Santa Mónica Heliport', 'Estancia La Chacota Heliport', 'Citefa Heliport', 'Las Chacritas Heliport', 'D.P. El Vapor Heliport', 'Cañuelas Gas SA Heliport ', 'Colonia La Capilla Heliport']\n",
      "   lagos : ['Lago Epecuén']\n",
      "   tipos_conectividad : ['ADSL', 'CABLEMODEM', 'FIBRAOPTICA', 'SATELITAL', 'WIRELESS', 'TELEFONIAFIJA', '3G', '4G', 'DIALUP']\n",
      "Provincia: Catamarca\n",
      "   aeropuertos : ['Coronel Felipe Varela International Airport', 'Andalgalá Airport', 'Campo Arenal Airport', 'Fiambala Airport', 'Don Alberto Airport', 'Londres/Belén Airport', 'Tinogasta Airport', 'Recreo / Transener S.A. Heliport', 'Club Nautico San Isidro Heliport']\n",
      "   lagos : []\n",
      "   tipos_conectividad : ['SATELITAL', '4G', '3G', 'ADSL', 'WIRELESS', 'TELEFONIAFIJA', 'FIBRAOPTICA', 'CABLEMODEM', 'DIALUP']\n",
      "Provincia: Chaco\n",
      "   aeropuertos : ['Resistencia International Airport', 'Aeródromo Estancia Don Panos', 'Castelli Airport', 'Charata Airport', 'El Gringo Airport', 'El Sauzalito Airport', 'Agroaire Airport', 'Pulverizaciones M.H. Airport', 'Agroaire Airport', 'General Pìnedo Airport', 'Kalbermatter Airport', 'Aeródromo Petruk', 'Aeródromo Estancia La Leonor', 'Saenz Peña Airport', 'Termal Airport', 'Rovere Airport', 'Resistencia (City) Airport', 'Aeroclub Chaco Airport', 'Villa Angela Airport']\n",
      "   lagos : []\n",
      "   tipos_conectividad : ['WIRELESS', '4G', 'FIBRAOPTICA', 'SATELITAL', 'TELEFONIAFIJA', 'ADSL', '3G', 'CABLEMODEM', 'DIALUP']\n",
      "Provincia: Chubut\n",
      "   aeropuertos : ['General E. Mosconi Airport', 'Almirante Marco Andres Zar Airport', 'El Tehuelche Airport', 'Brigadier Antonio Parodi Airport', 'Trelew Aeroclub Airport', 'Jose De San Martin Airport', 'El Maiten Airport', 'Rio Mayo Airport', 'Gan Gan Field', 'Telsen', 'Gastre Field', 'Cushamen Field', 'Las Plumas Filed', 'D. Casimiro Szlapelis Airport', 'Estancia La Laurita Airport', 'Pico Sayago Airport', 'Camarones Field', 'Cholila Airport', 'Estancia Tecka Airport', '13 De Diciembre Airport', 'Dique Florentino Ameghino Airport', 'Estancia Caridad Airport', 'El Corcovado Airport', 'Manantiales Behr Compressor Plant Airport', 'Gravina Peninsula Airport', 'Lago La Esperanza Airport', 'Estancia La Maciega Airport', 'La Lonja Airport', 'Garayalde Airport', 'Estancia Nueva Lubecka Airport', 'Paso De Los Indios Airport', 'Estancia La Adela Airport', 'Punta Delgada Airport', 'Estancia La Pastosa Airport', 'Estancia La Elba', 'Rawson Airport', 'Punta Ninfas Airport', 'Lago Musters Airport', 'Colonia Sarmiento Airport', 'Trevelin Airport', 'Caleta Valdés Field']\n",
      "   lagos : ['Lago Musters', 'Lago Fontana', 'Lago La Plata', 'Lago Menéndez', 'Lago Puelo', 'Lago Futalaufquen', 'Lago Blanco', 'Lago Rivadavia', 'Lago Río Chico', 'Lago Epuyén', 'Lago Cholila', 'Lago Pico Nº 1', 'Lago Rosario']\n",
      "   tipos_conectividad : ['SATELITAL', '3G', '4G', 'ADSL', 'CABLEMODEM', 'DIALUP', 'FIBRAOPTICA', 'WIRELESS', 'TELEFONIAFIJA']\n",
      "Provincia: Córdoba\n",
      "   aeropuertos : ['Ingeniero Ambrosio Taravella Airport', 'Bell Ville Airport', 'Escuela de Aviación Militar (Military Aviation School) Airport', 'Coronel Olmedo Airport', 'Area De Material Airport', 'Alta Gracia Airport', 'Estancia El Chañar Airport', 'Dean Funes Airport', 'Dolores Airport', 'Rio Cuarto Aeroclub Airport', 'Villa General Belgrano Airport', 'Presidente Néstor Kirchner Regional Airport', 'Villa Dolores Airport', 'Alejandro Roca Airport', 'El Toto Airport', 'Arias Airport', 'Arroyito/Arcor Airport', 'Ascochinga Airport', 'La Zulema Airport', 'Pablo Sierra Aeroaplicaciones Airport', 'Aerocampo CSA airport', 'Blondi Airport', 'Canals Airport', 'Las Ensenadas Airport', 'Aerofumigaciones Bartoli Hermanos Airstrip', 'Colonia Tirolesa Airport', 'Captain D Omar Darío Gelardi Airport', 'La Mezquita Airport', 'Coronel Moldes Airport', 'Corral De Bustos Airport', 'Alfomso Mengo Airport', 'Lomas del Espinillo Airport', 'Don Moises Airport', 'Santa María Airport', 'Cruz Alta Airport', 'General Deheza Airport', 'General Levalle Airport', 'Hernando Airport', 'Huinca Renanco Airport', 'Don Hector Biondi Airport', 'Biondi Airport]', 'Jesús Maria Airport', 'Antares Airport', 'Juarez Celman Airport', 'La Carlota Airport', 'Casajus', 'La Cumbre Airport', 'Laborde Airport', 'Laboulaye Airport', 'Laguna Larga Airport', 'Las Varillas Airport', 'Ginevro Airport', 'Leones Airport', 'Marcos Juarez Airport', 'Mina Clavero Airport', 'Pedro Ferrari Airport', 'Monte Maiz Airport', 'Aeroboero Airport', 'Morteros Airport', 'Campo San Jose Airport', 'Oliva Airport', 'El Recuerdo S.R.L. Airport', 'Pilar Airport', 'Estindher Airport', 'Carlos Saqui Airport', 'Rio Tercero Airport', 'San Francisco Airport', 'San José De La Dormida Airport', 'Chialva S. H. Airport', 'Santa Maria Airport', 'Tío Pujio Airport', 'Valle Hermoso Airport', 'Martín Fierro Airport', 'Don Angel Airport', 'Beneficios S.R.L. Airport', 'Comequechen Airport', 'Hallpa Huayra Airport', 'Villa de María de Río Seco Airport', 'Villa De Soto Airport', 'Villa Del Rosario Airport', 'Villa General Mitre Airport', 'Villa Maria Airport', 'Villa Rumipal Airport', 'Villa Valeria Airport', 'Almafuerte / Transener S.A. Heliport', 'Juan Y Luci Heliport', 'Oreste Berta Heliport', 'Campo De Vuelo Heliport', 'Casa De Gobierno Heliport', 'Ciudad Universitaria Heliport', 'Policía Provincia De Córdoba Heliport', 'Raies Heliport', 'Central Nuclear Heliport', 'La Carolina Heliport', 'Abel Monteverde Heliport', 'Montecristo / Transener S.A. Heliport', 'Morrison Heliport', 'Ayres De Pilar Heliport', 'Memorial Heliport', 'Norberto Cordeiro Heliport', 'Berrini Heliport', 'Centro Cívico Bicentenario Heliport']\n",
      "   lagos : []\n",
      "   tipos_conectividad : ['ADSL', 'CABLEMODEM', 'WIRELESS', 'TELEFONIAFIJA', '3G', '4G', 'FIBRAOPTICA', 'SATELITAL', 'DIALUP']\n",
      "Provincia: Corrientes\n",
      "   aeropuertos : ['Corrientes Airport', 'Goya Airport', 'Paso De Los Libres Airport', 'Curuzu Cuatia Airport', 'Monte Caseros Airport', 'Loma Alta Airport', 'Santa Juana Airport', 'Dinaluca S.A. Airport', 'Alvear Airport', 'Ita Ibate Airport', 'Cañada Quiroz Airport', 'Curuzu Cuatia Aeroclub Airport', 'Estancia San Juan Airport', 'Esquina Airport', 'Itá Caabó Airport', 'Las Marias Airport', 'Caa Cati Airport', 'Estancia Villa Corina Airport', 'Goya Aeroclub', 'Italaviation Airport', 'Itati Airport', 'Aeródromo Itatí', 'La Cruz Airport', 'El Pilincho Airport', 'Timboy Airport', 'Nueva Valencia Airport', 'Santo Tome Airport', 'Rincón de Luna Airport', 'Yapeyú Airport', 'Pozo Cuadrado Airport']\n",
      "   lagos : []\n",
      "   tipos_conectividad : ['ADSL', 'CABLEMODEM', 'SATELITAL', 'WIRELESS', 'TELEFONIAFIJA', '3G', '4G', 'DIALUP', 'FIBRAOPTICA']\n",
      "Provincia: Entre Ríos\n",
      "   aeropuertos : ['Comodoro Pierrestegui Airport', 'General Urquiza Airport', 'Gualeguaychu Airport', 'Colón Airport', 'Gualeguay Airport', 'Estancia El Pinocho', 'Basavilbaso Airport', 'Chajari Airport', 'Estancia La Choza Airport', 'Chajari Sur Airport', 'Colon Airport', 'Concepcion Del Uruguay Airport', 'Concordia Aeroclub Airport', 'Diamante Airport', 'La Angelita Airport', 'Agro Aereo Gualeguay Airport', 'Gualeguay Aeroclub Airport', 'Cabañas Airport', 'Estancia La Providencia Airport', 'Estancia El Potrero Airport', 'Islas Del Ibicuy Airport', 'La Paz Airport', 'La Paz Aeroclub Airport', 'La Paz Airport', 'Buena Esperanza Airport', 'Juan Carlos Bagur Airport', 'Nogoya Airport', 'Parana Aeroclub Airport', 'Parana Club De Planeadores Airport', 'Mazaruca Airport', 'Rosario Del Tala Airport', 'San Benito Airport', 'Santa Elena Airport', 'El Ocho Airstrip', 'Urdinarrain Airport', 'Victoria Airport', 'Villaguay Airport', 'El Jagüel Airport', 'El Malagueño Airport', 'Timbo Airstrip', 'La Milagrosa Heliport', 'Talitas Heliport', 'Hospital Materno Infantil San Roque Heliport', 'Tres Lagunas Airstrip']\n",
      "   lagos : []\n",
      "   tipos_conectividad : ['ADSL', 'FIBRAOPTICA', 'WIRELESS', 'TELEFONIAFIJA', '3G', '4G', 'CABLEMODEM', 'SATELITAL', 'DIALUP']\n",
      "Provincia: Formosa\n",
      "   aeropuertos : ['Aeropuerto Nacional de Formosa', 'Aeródromo de Clorinda', 'Aeródromo El Colorado', 'Aeródromo de la Estancia San Rafael', 'Aeródromo San Hilario', 'Aeródromo sede del Aeroclub Formosa', 'Aeródromo de Fortin Cabo Lugones', 'Ingeniero Juárez Airport', 'Aeródromo Cnel. Alfonso', 'Alferez Armando Rodriguez Airport', 'Aeródromo de la Estancia La Salvación', 'Posta Cambio a Zalazar Airport']\n",
      "   lagos : []\n",
      "   tipos_conectividad : ['ADSL', 'FIBRAOPTICA', 'SATELITAL', 'WIRELESS', 'TELEFONIAFIJA', '3G', '4G', 'CABLEMODEM']\n",
      "Provincia: Jujuy\n",
      "   aeropuertos : ['Gobernador Horacio Guzman International Airport', 'Calilegua Airport', 'Puerta De Avalos Airport', 'La Quiaca Airport', 'Scaro Airport', 'Salar De Cauchari Airport', 'Jujuy Aeroclub Airport']\n",
      "   lagos : []\n",
      "   tipos_conectividad : ['FIBRAOPTICA', 'WIRELESS', 'ADSL', 'SATELITAL', 'TELEFONIAFIJA', '4G', 'CABLEMODEM', '3G']\n",
      "Provincia: La Pampa\n",
      "   aeropuertos : ['Santa Rosa Airport', 'Veinticinco De Mayo Airport', 'El Pampero Airport', 'General Pico Airport', 'Establecimiento La Maria Pilar Airport', 'Chacharramendi Airport', 'Eduardo Castex Airport', 'General Acha Airport', 'Cereales Anahi Ruca Airport', 'Ñancu Airport', 'Estancia Trebolares Airport', 'Guatraché Airport', 'Ingeniero Luiggi Airport', 'Intendente Alvear Airport', 'Intendente Alvear', 'Azcarate Irastorza Airport', 'Jacinto Arauz Airport', 'Limay Mahuida Airport', 'Macachin Airport', 'Puelches Airport', 'Quemu Quemu Airport', 'Realicó Airport', 'Santa Isabel Airport', 'San Alberto Airport', 'Estancia Los Lobles Airport', 'Victorica Airport', 'Azcarate Irastorza Heliport', 'Transener S.A. Heliport']\n",
      "   lagos : []\n",
      "   tipos_conectividad : ['CABLEMODEM', 'FIBRAOPTICA', 'SATELITAL', 'WIRELESS', 'TELEFONIAFIJA', '4G', '3G', 'ADSL', 'DIALUP']\n",
      "Provincia: La Rioja\n",
      "   aeropuertos : ['Capitan V A Almonacid Airport', 'Anillaco Airport', 'Chepes Airport', 'Chilecito Airport', 'Chamical Airport']\n",
      "   lagos : []\n",
      "   tipos_conectividad : ['ADSL', 'CABLEMODEM', 'FIBRAOPTICA', 'SATELITAL', 'WIRELESS', 'TELEFONIAFIJA', '3G', '4G', 'DIALUP']\n",
      "Provincia: Mendoza\n",
      "   aeropuertos : ['El Plumerillo Airport', 'Suboficial Ay Santiago Germano Airport', 'Las Heras Airport', 'Junin Airport', 'La Puntilla Airport', 'América Airport', 'Comodoro D.R. Salomón Airport', 'Barrancas Airport', 'Lanzillota Airport', 'Confluencia Airport', 'Cristo Redentor Airport', 'General Alvear Airport', 'General Alvear Aeroclub Airport', 'Blondi Airport', 'La Consulta Airport', 'Los Perales Airport', 'Establecimiento El Araza Airport', 'Maipu Airport', 'Mendoza Airpark', 'Punta De Vacas Airport', 'Vale Airport', 'Rivadavia Airport', 'Aerotec Airport', 'Rivadavia Airport', 'San Carlos Airport', 'Uspallata Airport', 'Suarez Aviación Airport', 'RAIG S.A. Airport', 'Transener S.A. Heliport']\n",
      "   lagos : []\n",
      "   tipos_conectividad : ['ADSL', 'FIBRAOPTICA', 'WIRELESS', '3G', '4G', 'TELEFONIAFIJA', 'CABLEMODEM', 'DIALUP', 'SATELITAL']\n",
      "Provincia: Misiones\n",
      "   aeropuertos : ['Cataratas Del Iguazú International Airport', 'Libertador Gral D Jose De San Martin Airport', 'San Pedro Airport', 'Apóstoles Airport', 'Aristóbulo del Valle Aeroclub', 'Bernardo De Irigoyen Airport', 'El Dorado Airport', 'San Vicente Airport', 'Estancia Santa Elisa Airport', 'Jardin De América Airport', 'Montecarlo Airport', 'Oberá Airport', 'Bonetti Airport', 'Posadas Aeroclub Airport', 'Aeroclub San Javier']\n",
      "   lagos : []\n",
      "   tipos_conectividad : ['SATELITAL', 'TELEFONIAFIJA', '4G', 'WIRELESS', 'ADSL', 'CABLEMODEM', 'FIBRAOPTICA', '3G']\n",
      "Provincia: Neuquén\n",
      "   aeropuertos : ['Presidente Peron Airport', 'Aviador C. Campos Airport', 'Cutral-Co Airport', 'Rincon De Los Sauces Airport', 'Zapala Airport', 'Alumine Airport', 'Andacollo Airport', 'El Porton Airport', 'Caleufu Airport', 'Chos Malal Airport', 'El Alamito Airport', 'Chevron Texaco Airport', 'Hosteria San Huberto Airport', 'San Ignacio Airport', 'Caviahue Airport', 'Las Lajas Airport', 'Las Ovejas Airport', 'Estancia Llamuco Airport', 'Loncopue Airport', 'Meliquina Airport', 'Loma La Lata Airport', 'Piedra Del Aguila Airport', 'Pulmari Airport', 'Estancia Santa Isabel Heliport', 'Estancia Palitue Heliport', 'Estancia Haychol Heliport', 'Transener S.A. Heliport', 'Cerro Chapelco Heliport', 'Estancia La Candelaria Heliport', 'Rancho De Montaña Heliport']\n",
      "   lagos : ['Lago Nahuel Huapi', 'Lago Huechulafquen', 'Lago Traful', 'Lago Aluminé', 'Lago Lácar', 'Lago Espejo', 'Lago Lolog', 'Lago Tromen', 'Lago Quillén', 'Lago Moquehue', 'Lago Correntoso', 'Lago Paimún', 'Lago Meliquina', 'Lago Currhué', 'Lago Falkner']\n",
      "   tipos_conectividad : ['ADSL', 'CABLEMODEM', 'DIALUP', 'FIBRAOPTICA', 'SATELITAL', 'WIRELESS', 'TELEFONIAFIJA', '3G', '4G']\n",
      "Provincia: Río Negro\n",
      "   aeropuertos : ['San Carlos De Bariloche Airport', 'Colonia Catriel Airport', 'Gobernador Castello Airport', 'Antoine de Saint Exupéry Airport', 'Rio Colorado Airport', 'El Bolson Airport', 'Punta Mejillón Airport', 'Allen Airport', 'Arroyo de la Ventana Airport', 'Arroyo Los Berros Airport', 'Cerro Catedral Airport', 'Choele Choel Airport', 'Cinco Saltos Airport', 'Cipoletti Aeroclub Airport', 'Dr. Arturo H. Illia Airport', 'Guardia Mitre Airstrip', 'Ingeniero Jacobacci - Captain H R Bordón Airport', 'Los Menucos Airport', 'Maquinchao Airport', 'Ministro Ramos Mexía Airport', 'Lago Nahuel Huapi Airport', 'Pilcaniyeu Airport', 'Puerto San Antonio Este Airstrip', '(Old) Antoine De Saint Exupery Airport', 'Sierra Grande Airport', 'Bahía Dorada Airport', 'Valcheta Airport', 'Villa Regina Airport', 'Transener S.A. Heliport', 'Lago Escondido Heliport', 'Arelauquen Heliport', 'Complejo Llao Llao Heliport']\n",
      "   lagos : ['Lago Nahuel Huapi', 'Lago Pellegrini', 'Lago Mascardi', 'Lago Gutiérrez', 'Lago Perito Moreno']\n",
      "   tipos_conectividad : ['FIBRAOPTICA', 'SATELITAL', 'WIRELESS', '3G', '4G', 'ADSL', 'DIALUP', 'TELEFONIAFIJA', 'CABLEMODEM']\n",
      "Provincia: Salta\n",
      "   aeropuertos : ['Martin Miguel De Guemes International Airport', 'General Enrique Mosconi Airport', 'Santa Victoria Airport', 'Orán Airport', 'Finca La Frontera Airport', 'Finca Cuchuy Airport', 'Cachi Airport', 'Cafayate Airport', 'Salvita Airport', 'El Desafio', 'General Belgrano Airport', 'Finca La Hercilia Airport', 'Agropecuaria Rio Juramento Airport', 'AeroSoluciones Airport', 'Metán Airport', 'Finca Toloche Airport', 'Pichanal-Franzini Airport', 'SAS Aeroaplicaciones Airport', 'Finca Porvenir 8 Airport', 'Rosario De La Frontera Airport', 'Centro Cívico Grand Bourg Heliport', 'Finca Las Costas Heliport', 'Hospital De Milagro Heliport']\n",
      "   lagos : []\n",
      "   tipos_conectividad : ['CABLEMODEM', 'SATELITAL', 'WIRELESS', 'TELEFONIAFIJA', '3G', '4G', 'FIBRAOPTICA', 'ADSL', 'DIALUP']\n",
      "Provincia: San Juan\n",
      "   aeropuertos : ['Domingo Faustino Sarmiento Airport', 'Jachal Airport', 'La Laja Airport', 'Nueve de Julio Airport', 'San Juan Aeroclub Airport', 'Aeroclub San Martín']\n",
      "   lagos : []\n",
      "   tipos_conectividad : ['SATELITAL', 'WIRELESS', 'TELEFONIAFIJA', '4G', '3G', 'ADSL', 'DIALUP', 'FIBRAOPTICA', 'CABLEMODEM']\n",
      "Provincia: San Luis\n",
      "   aeropuertos : ['Villa Reynolds Airport', 'Brigadier Mayor D Cesar Raul Ojeda Airport', 'Villa Mercedes Airport', 'Estancia Las Marias Airport', 'Nueva Galia Airport', 'Tilisarao Airport', 'Estancia Don Roberto Airport', 'Las Totoritas Airport']\n",
      "   lagos : []\n",
      "   tipos_conectividad : ['WIRELESS', 'ADSL', 'DIALUP', 'TELEFONIAFIJA', 'SATELITAL', '4G', 'CABLEMODEM', '3G', 'FIBRAOPTICA']\n",
      "Provincia: Santa Cruz\n",
      "   aeropuertos : ['El Calafate - Commander Armando Tola International Airport', 'Piloto Civil N. Fernández Airport', 'Capitan D Daniel Vazquez Airport', 'Puerto Deseado Airport', 'Santa Cruz Airport', 'Perito Moreno Airport', 'Gobernador Gregores Airport', 'Comandante Luis Piedrabuena Airport', 'Lago Viedma Airstrip', 'Lago Argentino Airport', '28 de Noviembre Airport', 'Hipólito Yrigoyen Lago Posadas Airport', 'Estancia Bahía Laura Airport', 'Caleta Olivia Airport', 'Cañadon Seco Airport', 'Monte León Landing Strip', 'Campamento Jorge Cepernic Airport', 'Chucuruc Aike Airport', 'Estancia La Julia Airport', 'Coy Aike Airport', 'Laguna Flamenco Airport', 'Laguna Salada Airport', 'Punta Mercedes Airport', 'Punta Mercedes West Airport', 'Cabo Tres Puntas Airport', 'Estancia La Estrella Airport', 'Estancia El Polvorin Airport', 'Mazaredo Airport', 'La Floradora Airport', 'Yacimiento el Valle Lago del Desierto Airport', 'Aeroclub de El Chaltén Alf. G.N.A. Walter Omar D Anna', 'El Chaltén North Airport', 'El Salado Airport', 'Estancia Santa Ana Airport', 'Estancia 8 de Julio Airport', 'Estancia La Chaira Airport', 'Estancia Las Lagunas Airport', 'Monte Aymond Airport', 'Estancia Santa Elena Airport', 'Fitz Roy Airport', 'Las Horquetas Airport', 'Rospentek Airport', 'Estancia Tapi Aike Airport', 'Fuentes de Coyle Airport', 'Estancia Río Bote Airport', 'Gendarme Barreto West Airport', 'Gendarme Barreto Airport', 'Lago Buenos Aires Airport', 'Estancia Suyai - Lago Pueyrredon Airstrip', 'Río Seco Airport', 'Puerto Deseado West Airport', 'Campamento Darwin Airport', 'Campamento Darwin West Airport', 'Estancia Elena Airport', 'Casa Riera Airport', 'Estancia Silvina Airport', 'Rio Chico Airport', 'Estancia San Ramón Airport', 'Tellier Airport', 'Tres Cerros Airport', 'Cerro Vanguardia Airstrip', 'Cabo Vírgenes Heliport', 'Heliplataforma Am I Heliport', 'Heliplataforma/Am-2 Heliport', 'Heliplataforma/Am3 Heliport', 'Heliplataforma/Am5 Heliport', 'Heliplataforma Equipo Modular M-10 Heliport', 'Heliplataforma Barcaza Yagana Heliport', 'Heliplataforma Buque Skandi Patagonia Heliport']\n",
      "   lagos : ['Lago Argentino', 'Lago Viedma', 'Lago Cardiel', 'Lago Strobel', 'Lago Ghío', 'Lago Quiroga', 'Lago Nansen', 'Lago Belgrano', 'Lago Posadas', 'Lago Salitroso o Sucio', 'Lago Tar', 'Lago Asador o Guitarra', 'Lago Quiroga Chico', 'Lago Azara', 'Lago Burmeister', 'Lago Onelli']\n",
      "   tipos_conectividad : ['ADSL', 'DIALUP', 'SATELITAL', 'TELEFONIAFIJA', '3G', '4G', 'FIBRAOPTICA', 'WIRELESS', 'CABLEMODEM']\n",
      "Provincia: Santa Fe\n",
      "   aeropuertos : ['Rosario Islas Malvinas International Airport', 'Sauce Viejo Airport', 'Reconquista Airport', 'Alvear Airpark', 'San Justo Airport', 'La Siesta Airport', 'Savesa Airport', 'Venado Tuerto Airport', 'Puerto Esperanza Heliport', 'Agroalvear S.R.L. Airport', 'Presidente Avellaneda Airport', 'Gran Ancona Airport', 'Calchaqui Airport', 'Cañada de Gomez Airport', 'Stiefel Airport', 'B&B Servicios Agropecuarios Airport', 'Cañada Rosquin Airport', 'Di Giuseppe Airport', 'Casilda Airport', 'Ceres Airport', 'Chañar Ladeado Airport', 'Aerofumigaciones Don Alejandro Airport', 'Fumigaciones Campagnucci Airport', 'Agroservicios Airport', 'El Trebol Airport', 'Burdisso Airport', \"Bernardo's Airport\", 'Anibal Brizi Airport', 'Esperanza Airport', 'Estancia La Matilde Airport', 'Traill Southeast Airport', 'Firmat Aeroclub Airport', 'Firmat Airport', 'Alagro Fumigaciones Airport', 'Galvez Airport', 'Gobernador Crespo Aeroclub Airport', 'Plus Agroservicios Aereos S.R.L. Airport', 'Establecimiento La Adelita Airport', 'La Pelada Airport', 'Lanteri Airpiort', 'El Gaucho Airport', 'Las Rosas Airport', 'Horizonte Aplicaciones Areas Airport', 'Estancia Los Leones Airport', 'Los Amores NW Airport', 'Los Cardos Airport', 'Establecimiento La Florencia Airport', 'Samave Airport', 'Malabrigo Airport', 'Estancia El Cencerro Airport', 'Fumigaciones González Airport', 'Montes De Oca Airport', 'La Caldonia Airport', 'Estancia La Carolina Airport', 'Terminal 6 Airport', 'La Lucía Airport', 'Pettilep Airport', 'Rafaela Airport', 'La Lola Airport', 'Don Jose Airport', 'Pettilep II Airport', 'Pueblo Esther Airport', 'Rufino Airport', 'BSG Airport', 'San Cristobal Airport', 'San Gregorio Airport', 'Vergnano Airport', 'San Jorge Airport', 'Bocca Airport', 'San Justo Airport', 'Casilda Fumigaciones Airport', 'Santa Clara de Saguier Airport', 'Guadalupe Airport', 'Cóndor del Aire Airport', 'Fumigaciones Stadler Airport', 'Sunchales Aeroclub Airport', 'F.A.T. Airport', 'Estancia San Vicente Airport', 'Tostado Airport', 'Vera Airport', 'Suboficial Auxiliar Miguel A. Cardone Airport', 'Acindar Airport', 'Villa Minetti Airport', 'Villa Ocampo Airport', 'Transener S.A. Heliport', 'Elida 2 Airstrip', 'El Amargo Airport']\n",
      "   lagos : []\n",
      "   tipos_conectividad : ['SATELITAL', 'WIRELESS', 'TELEFONIAFIJA', '4G', '3G', 'ADSL', 'FIBRAOPTICA', 'CABLEMODEM', 'DIALUP']\n",
      "Provincia: Santiago del Estero\n",
      "   aeropuertos : ['Vicecomodoro Angel D. La Paz Aragonés Airport', 'Termas de Río Hondo international Airport', 'Añatuya Airport', 'Agroservicio Doña Teresa Airport', 'Dutto Airport', 'Los Rulos Airport', 'Frias Airport', 'Cabaña Los Gatos Airport', 'El Cuadrado Airport', 'Monte Quemado Airport', 'Las Termas Airport', 'Gobernador Santillán Airport', 'Fumigaciones Nando Airport', 'Establecimiento El 21 Airport', 'Dora Airport']\n",
      "   lagos : []\n",
      "   tipos_conectividad : ['ADSL', 'CABLEMODEM', 'DIALUP', 'FIBRAOPTICA', 'SATELITAL', 'WIRELESS', 'TELEFONIAFIJA', '3G', '4G']\n",
      "Provincia: Tierra del Fuego, Antártida e Islas del Atlántico Sur\n",
      "   aeropuertos : ['Malvinas Argentinas Airport', 'Gobernador Ramón Trejo Noel International Airport', 'Ushuaia Aeroclub Airport', 'Estancia Los Cerros Airport', 'Tolhuin Lago Fagnano Airport', 'Lago Fagnano North Airport', 'Rio Chico Highway Strip', 'Cullen Airport', 'Estancia Cullen South Airport', 'Los Robles Airport', 'Estancia Sara Airport', 'Rio Bellavista Airport', 'Lago Escondido Airport', 'Planta Cruz Del Sur Heliport', 'Austral Heliport', 'Estancia Rio Ewan Heliport', 'Aries Heliport', 'Heliplataforma Carina/Total Fina ELF', 'Heliplataforma/Rio Cullen-Hidra Norte Heliport', 'Heliplataforma Swiber PJW3000']\n",
      "   lagos : ['Lago Yehuin', 'Lago Chepelmut', 'Lago Río Bueno']\n",
      "   tipos_conectividad : ['SATELITAL', '3G', '4G', 'ADSL', 'CABLEMODEM', 'DIALUP', 'FIBRAOPTICA', 'WIRELESS', 'TELEFONIAFIJA']\n",
      "Provincia: Tucumán\n",
      "   aeropuertos : ['Teniente Benjamin Matienzo Airport', 'Bella Vista Airport', 'Concepción Airport', 'Agro Servicio Yoris Airport', 'Don Emilio Airport', 'Agroalas S.R.L. Airport', 'Los Tucanes Airport', 'Horco Molle Aeroclub Airport', 'Transener S.A. Heliport']\n",
      "   lagos : []\n",
      "   tipos_conectividad : ['ADSL', 'FIBRAOPTICA', 'SATELITAL', 'WIRELESS', 'TELEFONIAFIJA', '3G', '4G', 'CABLEMODEM', 'DIALUP']\n"
     ]
    }
   ],
   "source": [
    "for key, value in provinces.items():\n",
    "    print(\"Provincia:\", key)\n",
    "    for sub_key, sub_value in value.items():\n",
    "        print(\"  \", sub_key, \":\", sub_value)"
   ]
  },
  {
   "cell_type": "markdown",
   "metadata": {},
   "source": [
    "Importo el modulo que se encarga de procesar los datasets e imprimir los aeropuertos que estan en las capitales de las jurisdicciones argentinas\n",
    "###### inciso 5"
   ]
  },
  {
   "cell_type": "code",
   "execution_count": 2,
   "metadata": {},
   "outputs": [],
   "source": [
    "from funciones import capitales_y_aeropuertos as cya"
   ]
  },
  {
   "cell_type": "markdown",
   "metadata": {},
   "source": [
    "Genero la direccion en que esta el archivo de los aeropuertos y las capitales"
   ]
  },
  {
   "cell_type": "code",
   "execution_count": 5,
   "metadata": {},
   "outputs": [],
   "source": [
    "airports = Path('..','datasets_custom') / \"ar-airports-custom.csv\"\n",
    "argentina = Path('..','datasets') / \"ar.csv\""
   ]
  },
  {
   "cell_type": "markdown",
   "metadata": {},
   "source": [
    "Hago uso de la función del modulo que filtra las capitales y me muestra para cada una los aeropuertos que hay alli "
   ]
  },
  {
   "cell_type": "code",
   "execution_count": 6,
   "metadata": {},
   "outputs": [
    {
     "name": "stdout",
     "output_type": "stream",
     "text": [
      "Ciudad Autónoma de Buenos Aires:\n",
      "Córdoba:\n",
      "     Escuela de Aviación Militar (Military Aviation School) Airport\n",
      "     Captain D Omar Darío Gelardi Airport\n",
      "     Berrini Heliport\n",
      "     Centro Cívico Bicentenario Heliport\n",
      "Santiago del Estero:\n",
      "     Vicecomodoro Angel D. La Paz Aragonés Airport\n",
      "San Miguel de Tucumán:\n",
      "     Teniente Benjamin Matienzo Airport\n",
      "Salta:\n",
      "     Martin Miguel De Guemes International Airport\n",
      "     Santa Victoria Airport\n",
      "     Centro Cívico Grand Bourg Heliport\n",
      "     Finca Las Costas Heliport\n",
      "     Hospital De Milagro Heliport\n",
      "San Juan:\n",
      "     Domingo Faustino Sarmiento Airport\n",
      "     San Juan Aeroclub Airport\n",
      "Santa Fe:\n",
      "     Sauce Viejo Airport\n",
      "     Guadalupe Airport\n",
      "Corrientes:\n",
      "     Corrientes Airport\n",
      "     Alvear Airport\n",
      "     Ita Ibate Airport\n",
      "     Cañada Quiroz Airport\n",
      "San Salvador de Jujuy:\n",
      "     Gobernador Horacio Guzman International Airport\n",
      "     Jujuy Aeroclub Airport\n",
      "Resistencia:\n",
      "     Resistencia International Airport\n",
      "     Resistencia (City) Airport\n",
      "     Aeroclub Chaco Airport\n",
      "Posadas:\n",
      "     Libertador Gral D Jose De San Martin Airport\n",
      "     Bonetti Airport\n",
      "     Posadas Aeroclub Airport\n",
      "Paraná:\n",
      "     Hospital Materno Infantil San Roque Heliport\n",
      "Formosa:\n",
      "     Aeropuerto Nacional de Formosa\n",
      "     Aeródromo sede del Aeroclub Formosa\n",
      "Neuquén:\n",
      "     Presidente Peron Airport\n",
      "     Loma La Lata Airport\n",
      "La Plata:\n",
      "     La Plata Airport\n",
      "     Tolosa Airport\n",
      "     Elizalde Airport\n",
      "     D.P.A.O. Heliport\n",
      "     Ecodyma S.C.A. Heliport\n",
      "     Policlinico San Martin Heliport\n",
      "La Rioja:\n",
      "     Capitan V A Almonacid Airport\n",
      "San Luis:\n",
      "     Brigadier Mayor D Cesar Raul Ojeda Airport\n",
      "Catamarca:\n",
      "     Coronel Felipe Varela International Airport\n",
      "Mendoza:\n",
      "     El Plumerillo Airport\n",
      "     Mendoza Airpark\n",
      "Santa Rosa:\n",
      "     Santa Rosa Airport\n",
      "     El Pampero Airport\n",
      "     San Alberto Airport\n",
      "Río Gallegos:\n",
      "Viedma:\n",
      "     Gobernador Castello Airport\n",
      "Ushuaia:\n",
      "     Malvinas Argentinas Airport\n",
      "     Ushuaia Aeroclub Airport\n",
      "Rawson:\n",
      "     Almirante Marco Andres Zar Airport\n",
      "     Rawson Airport\n",
      "     Punta Ninfas Airport\n"
     ]
    }
   ],
   "source": [
    "cya.aeropuertos_en_capital(airports,argentina)"
   ]
  },
  {
   "cell_type": "markdown",
   "metadata": {},
   "source": [
    "Importo el modulo que se encarga de procesar los datasets e imprimir los lagos de acuerdo a un valor que ingresa el usuario\n",
    "###### inciso 6"
   ]
  },
  {
   "cell_type": "code",
   "execution_count": 2,
   "metadata": {},
   "outputs": [],
   "source": [
    "from funciones import lagos_tamaño as lakes"
   ]
  },
  {
   "cell_type": "markdown",
   "metadata": {},
   "source": [
    "Genero la direccion en que esta el archivo de los lagos"
   ]
  },
  {
   "cell_type": "code",
   "execution_count": 3,
   "metadata": {},
   "outputs": [],
   "source": [
    "root = Path('..','datasets_custom') / \"lagos_arg_custom.csv\""
   ]
  },
  {
   "cell_type": "markdown",
   "metadata": {},
   "source": [
    "Invoco a la función que pide al usuario el tamaño y me muestra los nombres de lagos "
   ]
  },
  {
   "cell_type": "code",
   "execution_count": 4,
   "metadata": {},
   "outputs": [
    {
     "name": "stdout",
     "output_type": "stream",
     "text": [
      "Lago Epuyén Lago Gutiérrez Lago Cholila Lago Paimún Lago Azara Lago Burmeister Lago Onelli Lago Meliquina Lago Perito Moreno Lago Currhué Lago Falkner Lago Pico Nº 1 Lago Río Bueno Lago Rosario "
     ]
    }
   ],
   "source": [
    "lakes.lakes_filter(root)"
   ]
  }
 ],
 "metadata": {
  "kernelspec": {
   "display_name": "jupyter",
   "language": "python",
   "name": "python3"
  },
  "language_info": {
   "codemirror_mode": {
    "name": "ipython",
    "version": 3
   },
   "file_extension": ".py",
   "mimetype": "text/x-python",
   "name": "python",
   "nbconvert_exporter": "python",
   "pygments_lexer": "ipython3",
   "version": "3.11.4"
  },
  "orig_nbformat": 4
 },
 "nbformat": 4,
 "nbformat_minor": 2
}
