{
 "cells": [
  {
   "cell_type": "markdown",
   "metadata": {},
   "source": [
    "Importo el la clase Path desde pathlib para manejar rutas de archivos en mas de un sistema operativo "
   ]
  },
  {
   "cell_type": "code",
   "execution_count": null,
   "metadata": {},
   "outputs": [],
   "source": [
    "from pathlib import Path"
   ]
  },
  {
   "cell_type": "markdown",
   "metadata": {},
   "source": [
    "Importo el modulo que se encarga de procesar los datasets y devolverme los aeropuertos, lagos y tipo de conectividad de las provincias que cumplan la condicion dada por el usaurio\n",
    "###### inciso 4"
   ]
  },
  {
   "cell_type": "code",
   "execution_count": null,
   "metadata": {},
   "outputs": [],
   "source": [
    "from funciones import demografia"
   ]
  },
  {
   "cell_type": "code",
   "execution_count": null,
   "metadata": {},
   "outputs": [],
   "source": [
    "censo = Path('..','datasets_custom') / \"Censo_Modificado.csv\"\n",
    "aeropuertos = Path('..','datasets_custom') / \"ar-airports-custom.csv\"\n",
    "lagos = Path('..','datasets_custom') / \"lagos_arg_custom.csv\"\n",
    "conectividad = Path('..','datasets_custom') / \"Conectividad_Internet.csv\"\n",
    "\n",
    "provinces = demografia.filtrar_segun_poblacion(censo,aeropuertos,lagos,conectividad)"
   ]
  },
  {
   "cell_type": "markdown",
   "metadata": {},
   "source": [
    "Para verificar que el output este bien\n",
    "En el dataset de lagos no todas las jurisdicciones tienen lagos"
   ]
  },
  {
   "cell_type": "code",
   "execution_count": null,
   "metadata": {},
   "outputs": [],
   "source": [
    "for key, value in provinces.items():\n",
    "    print(\"Provincia:\", key)\n",
    "    for sub_key, sub_value in value.items():\n",
    "        print(\"  \", sub_key, \":\", sub_value)"
   ]
  },
  {
   "cell_type": "markdown",
   "metadata": {},
   "source": [
    "Importo el modulo que se encarga de procesar los datasets e imprimir los aeropuertos que estan en las capitales de las jurisdicciones argentinas\n",
    "###### inciso 5"
   ]
  },
  {
   "cell_type": "code",
   "execution_count": null,
   "metadata": {},
   "outputs": [],
   "source": [
    "from funciones import capitales_y_aeropuertos as cya"
   ]
  },
  {
   "cell_type": "markdown",
   "metadata": {},
   "source": [
    "Genero la direccion en que esta el archivo de los aeropuertos y las capitales"
   ]
  },
  {
   "cell_type": "code",
   "execution_count": null,
   "metadata": {},
   "outputs": [],
   "source": [
    "airports = Path('..','datasets_custom') / \"ar-airports-custom.csv\"\n",
    "argentina = Path('..','datasets') / \"ar.csv\""
   ]
  },
  {
   "cell_type": "markdown",
   "metadata": {},
   "source": [
    "Hago uso de la función del modulo que filtra las capitales y me muestra para cada una los aeropuertos que hay alli "
   ]
  },
  {
   "cell_type": "code",
   "execution_count": null,
   "metadata": {},
   "outputs": [],
   "source": [
    "cya.aeropuertos_en_capital(airports,argentina)"
   ]
  },
  {
   "cell_type": "markdown",
   "metadata": {},
   "source": [
    "Importo el modulo que se encarga de procesar los datasets e imprimir los lagos de acuerdo a un valor que ingresa el usuario\n",
    "###### inciso 6"
   ]
  },
  {
   "cell_type": "code",
   "execution_count": null,
   "metadata": {},
   "outputs": [],
   "source": [
    "from funciones import lagos_tamaño as lakes"
   ]
  },
  {
   "cell_type": "markdown",
   "metadata": {},
   "source": [
    "Genero la direccion en que esta el archivo de los lagos"
   ]
  },
  {
   "cell_type": "code",
   "execution_count": null,
   "metadata": {},
   "outputs": [],
   "source": [
    "root = Path('..','datasets_custom') / \"lagos_arg_custom.csv\""
   ]
  },
  {
   "cell_type": "markdown",
   "metadata": {},
   "source": [
    "Invoco a la función que pide al usuario el tamaño y me muestra los nombres de lagos "
   ]
  },
  {
   "cell_type": "code",
   "execution_count": null,
   "metadata": {},
   "outputs": [],
   "source": [
    "lakes.lakes_filter(root)"
   ]
  }
 ],
 "metadata": {
  "kernelspec": {
   "display_name": "jupyter",
   "language": "python",
   "name": "python3"
  },
  "language_info": {
   "codemirror_mode": {
    "name": "ipython",
    "version": 3
   },
   "file_extension": ".py",
   "mimetype": "text/x-python",
   "name": "python",
   "nbconvert_exporter": "python",
   "pygments_lexer": "ipython3",
   "version": "3.11.7"
  },
  "orig_nbformat": 4
 },
 "nbformat": 4,
 "nbformat_minor": 2
}
