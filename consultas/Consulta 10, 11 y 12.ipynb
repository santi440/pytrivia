{
 "cells": [
  {
   "cell_type": "code",
   "execution_count": 1,
   "metadata": {},
   "outputs": [
    {
     "name": "stdout",
     "output_type": "stream",
     "text": [
      "{'ADSL': 1149, 'CABLEMODEM': 851, 'DIALUP': 396, 'FIBRAOPTICA': 1321, 'SATELITAL': 998, 'WIRELESS': 2145, 'TELEFONIAFIJA': 2086, '3G': 1880, '4G': 2574}\n",
      "Ciudad Autónoma de Buenos Aires\n",
      "Provincia: Ciudad Autónoma de Buenos Aires\n",
      "  Capital: Ciudad Autónoma de Buenos Aires\n",
      "  Conectividad: Conectividad desconocida\n",
      "Provincia: Córdoba\n",
      "  Capital: Córdoba\n",
      "  Conectividad: SI\n",
      "Provincia: Santiago del Estero\n",
      "  Capital: Santiago del Estero\n",
      "  Conectividad: SI\n",
      "Provincia: Tucumán\n",
      "  Capital: San Miguel de Tucumán\n",
      "  Conectividad: SI\n",
      "Provincia: Salta\n",
      "  Capital: Salta\n",
      "  Conectividad: SI\n",
      "Provincia: San Juan\n",
      "  Capital: San Juan\n",
      "  Conectividad: SI\n",
      "Provincia: Santa Fe\n",
      "  Capital: Santa Fe\n",
      "  Conectividad: SI\n",
      "Provincia: Corrientes\n",
      "  Capital: Corrientes\n",
      "  Conectividad: SI\n",
      "Provincia: Jujuy\n",
      "  Capital: San Salvador de Jujuy\n",
      "  Conectividad: Conectividad desconocida\n",
      "Provincia: Chaco\n",
      "  Capital: Resistencia\n",
      "  Conectividad: SI\n",
      "Provincia: Misiones\n",
      "  Capital: Posadas\n",
      "  Conectividad: SI\n",
      "Provincia: Entre Ríos\n",
      "  Capital: Paraná\n",
      "  Conectividad: SI\n",
      "Provincia: Formosa\n",
      "  Capital: Formosa\n",
      "  Conectividad: SI\n",
      "Provincia: Neuquén\n",
      "  Capital: Neuquén\n",
      "  Conectividad: SI\n",
      "Provincia: Buenos Aires\n",
      "  Capital: La Plata\n",
      "  Conectividad: SI\n",
      "Provincia: La Rioja\n",
      "  Capital: La Rioja\n",
      "  Conectividad: SI\n",
      "Provincia: San Luis\n",
      "  Capital: San Luis\n",
      "  Conectividad: SI\n",
      "Provincia: Catamarca\n",
      "  Capital: Catamarca\n",
      "  Conectividad: SI\n",
      "Provincia: Mendoza\n",
      "  Capital: Mendoza\n",
      "  Conectividad: SI\n",
      "Provincia: La Pampa\n",
      "  Capital: Santa Rosa\n",
      "  Conectividad: SI\n",
      "Provincia: Santa Cruz\n",
      "  Capital: Río Gallegos\n",
      "  Conectividad: SI\n",
      "Provincia: Río Negro\n",
      "  Capital: Viedma\n",
      "  Conectividad: SI\n",
      "Provincia: Tierra del Fuego, Antártida e Islas del Atlántico Sur\n",
      "  Capital: Ushuaia\n",
      "  Conectividad: SI\n",
      "Provincia: Chubut\n",
      "  Capital: Rawson\n",
      "  Conectividad: SI\n"
     ]
    }
   ],
   "source": [
    "from funciones import conectividad as conec\n",
    "\n",
    "print(conec.connectivity_type_quantities())\n",
    "conec.provinces_optical_fiber()\n",
    "conec.province_capital_connectivity()"
   ]
  }
 ],
 "metadata": {
  "kernelspec": {
   "display_name": "venv",
   "language": "python",
   "name": "python3"
  },
  "language_info": {
   "codemirror_mode": {
    "name": "ipython",
    "version": 3
   },
   "file_extension": ".py",
   "mimetype": "text/x-python",
   "name": "python",
   "nbconvert_exporter": "python",
   "pygments_lexer": "ipython3",
   "version": "3.11.6"
  }
 },
 "nbformat": 4,
 "nbformat_minor": 2
}
