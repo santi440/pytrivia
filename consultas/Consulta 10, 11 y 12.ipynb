{
 "cells": [
  {
   "cell_type": "code",
   "execution_count": 2,
   "metadata": {},
   "outputs": [
    {
     "name": "stdout",
     "output_type": "stream",
     "text": [
      "{'ADSL': 1149, 'CABLEMODEM': 851, 'DIALUP': 396, 'FIBRAOPTICA': 1321, 'SATELITAL': 998, 'WIRELESS': 2145, 'TELEFONIAFIJA': 2086, '3G': 1880, '4G': 2574}\n",
      "BUENOS AIRES\n",
      "CABA\n",
      "CORDOBA\n",
      "JUJUY\n",
      "SAN LUIS\n",
      "FORMOSA\n",
      "CATAMARCA\n",
      "LA PAMPA\n",
      "MENDOZA\n",
      "NEUQUEN\n",
      "RIO NEGRO\n",
      "SAN JUAN\n",
      "SANTA CRUZ\n",
      "SANTA FE\n",
      "SANTIAGO DEL ESTERO\n",
      "TUCUMAN\n",
      "MISIONES\n",
      "LA RIOJA\n",
      "SALTA\n",
      "CHACO\n",
      "TIERRA DEL FUEGO\n",
      "CHUBUT\n",
      "CORRIENTES\n",
      "ENTRE RIOS\n",
      "CABA\n"
     ]
    }
   ],
   "source": [
    "from funciones import conectividad as conec\n",
    "\n",
    "print(conec.connectivity_type_quantities())\n",
    "conec.provinces_optical_fiber()"
   ]
  }
 ],
 "metadata": {
  "kernelspec": {
   "display_name": "venv",
   "language": "python",
   "name": "python3"
  },
  "language_info": {
   "codemirror_mode": {
    "name": "ipython",
    "version": 3
   },
   "file_extension": ".py",
   "mimetype": "text/x-python",
   "name": "python",
   "nbconvert_exporter": "python",
   "pygments_lexer": "ipython3",
   "version": "3.10.7"
  }
 },
 "nbformat": 4,
 "nbformat_minor": 2
}
