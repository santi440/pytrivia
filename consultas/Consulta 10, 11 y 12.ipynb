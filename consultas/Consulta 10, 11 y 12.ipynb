{
 "cells": [
  {
   "cell_type": "markdown",
   "metadata": {},
   "source": [
    "# Incisos 10,11 y 12 de consulta "
   ]
  },
  {
   "cell_type": "markdown",
   "metadata": {},
   "source": [
    "Importo el módulo que contiene las funciones a utilizar"
   ]
  },
  {
   "cell_type": "code",
   "execution_count": null,
   "metadata": {},
   "outputs": [],
   "source": [
    "from funciones import conectividad as conec"
   ]
  },
  {
   "cell_type": "markdown",
   "metadata": {},
   "source": [
    "---"
   ]
  },
  {
   "cell_type": "markdown",
   "metadata": {},
   "source": [
    "## Consulta inciso 10"
   ]
  },
  {
   "cell_type": "markdown",
   "metadata": {},
   "source": [
    "Para cumplir el obejtivo de \"Mostrar las cantidades de localidades con cada tipo de conectividad\" invoco a la función connectivity_type_quantities() que se encarga de procesar y filtrar la información contenida en el dataset Conectividad_Internet.csv -contenido en el directorio datasets_custom-, y luego imprimirla. "
   ]
  },
  {
   "cell_type": "code",
   "execution_count": null,
   "metadata": {},
   "outputs": [],
   "source": [
    "conec.connectivity_type_quantities()"
   ]
  },
  {
   "cell_type": "markdown",
   "metadata": {},
   "source": [
    "---"
   ]
  },
  {
   "cell_type": "markdown",
   "metadata": {},
   "source": [
    "## Consulta inciso 11"
   ]
  },
  {
   "cell_type": "markdown",
   "metadata": {},
   "source": [
    "Para cumplir el objetivo de \"Mostrar las provincias para las cuales todas sus ciudades poseen FIBRA ÓPTICA\", invoco a la función provinces_optical_fiber() que se encarga de procesar y filtrar la información que posee el dataset citado anteriormente, una vez realizado, imprime dicha información -si cumple la condición del objetivo-"
   ]
  },
  {
   "cell_type": "code",
   "execution_count": null,
   "metadata": {},
   "outputs": [],
   "source": [
    "conec.provinces_optical_fiber()"
   ]
  },
  {
   "cell_type": "markdown",
   "metadata": {},
   "source": [
    "---"
   ]
  },
  {
   "cell_type": "markdown",
   "metadata": {},
   "source": [
    "## Consulta inciso 12"
   ]
  },
  {
   "cell_type": "markdown",
   "metadata": {},
   "source": [
    "Para cumplir el objetivo de \"Mostrar para cada provincia su capital y, si se conoce la información para dicha\n",
    "capital, informar si posee conectividad. En caso de no conocer la información mostrar el texto “conectividad\n",
    "desconocida”\", invoco a la función province_capital_connectivity() que se encarga de procesar la información contenida en el dataset citado anteriormente y en el dataset ar.csv -para verificar qué ciudades son capitales-, compararla e imprimirla"
   ]
  },
  {
   "cell_type": "code",
   "execution_count": null,
   "metadata": {},
   "outputs": [],
   "source": [
    "conec.province_capital_connectivity()"
   ]
  },
  {
   "cell_type": "markdown",
   "metadata": {},
   "source": [
    "---"
   ]
  },
  {
   "cell_type": "markdown",
   "metadata": {},
   "source": [
    "#### Por último, se recomienda leer tanto los docstrings de las funciones como los comentarios allí vertidos para comprender en profundidad la lógica y funcionamiento de las mismas ☻"
   ]
  }
 ],
 "metadata": {
  "kernelspec": {
   "display_name": "venv",
   "language": "python",
   "name": "python3"
  },
  "language_info": {
   "codemirror_mode": {
    "name": "ipython",
    "version": 3
   },
   "file_extension": ".py",
   "mimetype": "text/x-python",
   "name": "python",
   "nbconvert_exporter": "python",
   "pygments_lexer": "ipython3",
   "version": "3.11.6"
  }
 },
 "nbformat": 4,
 "nbformat_minor": 2
}
