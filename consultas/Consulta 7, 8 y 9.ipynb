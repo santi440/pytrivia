{
 "cells": [
  {
   "cell_type": "markdown",
   "metadata": {},
   "source": [
    "# Consulta EJ7"
   ]
  },
  {
   "cell_type": "markdown",
   "metadata": {},
   "source": [
    "Primero se importan los módulos con los que se va a trabajar:"
   ]
  },
  {
   "cell_type": "code",
   "execution_count": null,
   "metadata": {},
   "outputs": [],
   "source": [
    "import csv\n",
    "import pathlib"
   ]
  },
  {
   "cell_type": "markdown",
   "metadata": {},
   "source": [
    "Se crea una lista vacia que va a contener la información de las jurisdicciones:"
   ]
  },
  {
   "cell_type": "code",
   "execution_count": null,
   "metadata": {},
   "outputs": [],
   "source": [
    "info_population = []"
   ]
  },
  {
   "cell_type": "markdown",
   "metadata": {},
   "source": [
    "Se crea una objeto con la ruta del archivo y se abre.\n",
    "\n",
    "También se crea el iterable: "
   ]
  },
  {
   "cell_type": "code",
   "execution_count": null,
   "metadata": {},
   "outputs": [],
   "source": [
    "path = pathlib.Path('../datasets_custom/Censo_Modificado.csv')\n",
    "file = open(path, mode='r', encoding='UTF-8')\n",
    "reader = csv.DictReader(file)"
   ]
  },
  {
   "cell_type": "markdown",
   "metadata": {},
   "source": [
    "Iterando sobre **reader** se descarta la fila *Total del Pais*:\n",
    "\n",
    "*Se agrega ; al final de la instrucción para que no imprima*"
   ]
  },
  {
   "cell_type": "code",
   "execution_count": null,
   "metadata": {},
   "outputs": [],
   "source": [
    "next(reader);"
   ]
  },
  {
   "cell_type": "markdown",
   "metadata": {},
   "source": [
    "Con un **For** sobre el iterable se realiza el procesamiento del archivo linea por linea.\n",
    "\n",
    "-Se crea una tupla *content*, dicha tupla tiene el nombre de la jurisdicción y el porcentaje (accediendo a dicha columna).\n",
    "\n",
    "-Se agrega la tupla a la lista que contiene la info de las jurisdicciones."
   ]
  },
  {
   "cell_type": "code",
   "execution_count": null,
   "metadata": {},
   "outputs": [],
   "source": [
    "for line in reader:\n",
    "    content = (line['Jurisdicción'], line['Porcentaje de población en situación de calle'])\n",
    "    info_population.append(content)"
   ]
  },
  {
   "cell_type": "markdown",
   "metadata": {},
   "source": [
    "Una vez cargada la lista con las tuplas:\n",
    "\n",
    "-Se ordena utilizando *sorted*, y *reverse=True* para que se ordene de mayor a menor.\n",
    "\n",
    "-Se utiliza una función *lambda* para indicar hay que ordenar la lista a partir del elemento en el índice 1 de las tuplas. Correspondiente al porcentaje.\n",
    "\n",
    "-Con *slicing* **[:5]**, la lista únicamente contiene los primeros 5 elementos de la misma."
   ]
  },
  {
   "cell_type": "code",
   "execution_count": null,
   "metadata": {},
   "outputs": [],
   "source": [
    "info_population = sorted(info_population, key=lambda elem: elem[1], reverse=True)[:5]"
   ]
  },
  {
   "cell_type": "markdown",
   "metadata": {},
   "source": [
    "Se imprime la lista y se cierra el archivo:"
   ]
  },
  {
   "cell_type": "code",
   "execution_count": null,
   "metadata": {},
   "outputs": [],
   "source": [
    "print ('Jurisdicciones con mayor porcentaje de población en situación de calle: ')\n",
    "ind = 1\n",
    "\n",
    "for elem in info_population:\n",
    "    print(f'   {ind}.', elem[0] , '. Porcentaje: ' , elem[1] , '%.')\n",
    "    ind+= 1\n",
    "\n",
    "file.close()"
   ]
  },
  {
   "cell_type": "markdown",
   "metadata": {},
   "source": [
    "---"
   ]
  },
  {
   "cell_type": "markdown",
   "metadata": {},
   "source": [
    "# Consulta EJ8"
   ]
  },
  {
   "cell_type": "markdown",
   "metadata": {},
   "source": [
    "Primero se importan los módulos con los que se va a trabajar:"
   ]
  },
  {
   "cell_type": "code",
   "execution_count": null,
   "metadata": {},
   "outputs": [],
   "source": [
    "import csv\n",
    "import pathlib"
   ]
  },
  {
   "cell_type": "markdown",
   "metadata": {},
   "source": [
    "Se crea una lista vacia que va a contener la información de las jurisdicciones:"
   ]
  },
  {
   "cell_type": "code",
   "execution_count": null,
   "metadata": {},
   "outputs": [],
   "source": [
    "info_population = []"
   ]
  },
  {
   "cell_type": "markdown",
   "metadata": {},
   "source": [
    "Se crea una objeto con la ruta del archivo y se abre.\n",
    "\n",
    "También se crea el iterable: "
   ]
  },
  {
   "cell_type": "code",
   "execution_count": null,
   "metadata": {},
   "outputs": [],
   "source": [
    "path = pathlib.Path('../datasets_custom/Censo_Modificado.csv')\n",
    "file = open(path, mode='r', encoding='UTF-8')\n",
    "reader = csv.DictReader(file)"
   ]
  },
  {
   "cell_type": "markdown",
   "metadata": {},
   "source": [
    "Iterando sobre **reader** se descarta la fila *Total del Pais*:\n",
    "\n",
    "*Se agrega ; al final de la instrucción para que no imprima*"
   ]
  },
  {
   "cell_type": "code",
   "execution_count": null,
   "metadata": {},
   "outputs": [],
   "source": [
    "next(reader);"
   ]
  },
  {
   "cell_type": "markdown",
   "metadata": {},
   "source": [
    "Con un **For** sobre el iterable se realiza el procesamiento del archivo linea por linea.\n",
    "\n",
    "-En la variable **women** se guarda la cantidad de mujeres de dicha jurisdicción. Se hace la conversión con *int()*.\n",
    "\n",
    "-En la variable **men** se guarda la cantidad de varones de dicha jurisdicción. Se hace la conversión con *int()*.\n",
    "\n",
    "-Dependiendo cuál sea mayor se restan, para obtener la diferencia. Se controla con un **If**. \n",
    "\n",
    "-Se crea una tupla *content*, dicha tupla tiene el nombre de la jurisdicción y la diferencia."
   ]
  },
  {
   "cell_type": "code",
   "execution_count": null,
   "metadata": {},
   "outputs": [],
   "source": [
    "for line in reader:\n",
    "    women = int(line['Mujeres Total de población'])\n",
    "    men = int(line['Varones Total de población'])\n",
    "\n",
    "    if (women > men):\n",
    "        difference = women-men\n",
    "    else:\n",
    "        difference = men-women\n",
    "\n",
    "    content = (line['Jurisdicción'], difference)\n",
    "    info_population.append(content)"
   ]
  },
  {
   "cell_type": "markdown",
   "metadata": {},
   "source": [
    "Una vez cargada la lista con las tuplas:\n",
    "\n",
    "-Se ordena utilizando *sorted*, y *reverse=True* para que se ordene de mayor a menor.\n",
    "\n",
    "-Se utiliza una función *lambda* para indicar que hay que ordenar la lista a partir del elemento en el índice 1 de las tuplas. Correspondiente a la diferencia.\n",
    "\n",
    "-Con *slicing* **[:1]**, la lista únicamente contiene al primer elemento de la misma. Correspondiente al máximo.\n",
    "\n",
    "-Se guarda el elemento de la lista (tupla) en la variable **maximum**. Se accede con el índice **[0]**."
   ]
  },
  {
   "cell_type": "code",
   "execution_count": null,
   "metadata": {},
   "outputs": [],
   "source": [
    "maximum = (sorted(info_population, key=lambda elem: elem[1], reverse=True)[:1])[0]"
   ]
  },
  {
   "cell_type": "markdown",
   "metadata": {},
   "source": [
    "Se imprime la tupla y se cierra el archivo:"
   ]
  },
  {
   "cell_type": "code",
   "execution_count": null,
   "metadata": {},
   "outputs": [],
   "source": [
    "print(f'Jurisdiccion con mayor brecha entre sexos al nacer es', maximum[0], '. Brecha:', maximum[1], '.')\n",
    "file.close()"
   ]
  },
  {
   "cell_type": "markdown",
   "metadata": {},
   "source": [
    "---"
   ]
  },
  {
   "cell_type": "markdown",
   "metadata": {},
   "source": [
    "## Consulta EJ9"
   ]
  },
  {
   "cell_type": "markdown",
   "metadata": {},
   "source": [
    "Se importan los módulos con los que se va a trabajar:"
   ]
  },
  {
   "cell_type": "code",
   "execution_count": null,
   "metadata": {},
   "outputs": [],
   "source": [
    "import csv\n",
    "import pathlib"
   ]
  },
  {
   "cell_type": "markdown",
   "metadata": {},
   "source": [
    "Se crea una objeto con la ruta del archivo y se abre:\n"
   ]
  },
  {
   "cell_type": "code",
   "execution_count": null,
   "metadata": {},
   "outputs": [],
   "source": [
    "path = pathlib.Path('../datasets_Custom/Conectividad_Internet.csv')\n",
    "file = open(path, mode='r', encoding='UTF-8')"
   ]
  },
  {
   "cell_type": "markdown",
   "metadata": {},
   "source": [
    "Se crea el iterable **reader**. Luego se le hace un *next* para almacenar la cabecera en **header**:"
   ]
  },
  {
   "cell_type": "code",
   "execution_count": null,
   "metadata": {},
   "outputs": [],
   "source": [
    "reader = csv.reader(file)\n",
    "header = next(reader) "
   ]
  },
  {
   "cell_type": "markdown",
   "metadata": {},
   "source": [
    "Al tener que trabajar únicamente con la cabecera el archivo, ya se puede cerrar:"
   ]
  },
  {
   "cell_type": "code",
   "execution_count": null,
   "metadata": {},
   "outputs": [],
   "source": [
    "file.close()"
   ]
  },
  {
   "cell_type": "markdown",
   "metadata": {},
   "source": [
    "En este caso en la tupla **no_connectivity** se guardan todos los nombres de las columnas que NO corresponden a tipos de conectividad. \n",
    "\n",
    "De esta forma se puede agregar en un futuro nuevos tipos de conectividad en el archivo CSV como columnas."
   ]
  },
  {
   "cell_type": "code",
   "execution_count": null,
   "metadata": {},
   "outputs": [],
   "source": [
    "no_connectivity = ('Provincia', 'Partido', 'Localidad', 'Poblacion', 'link', 'Latitud', 'Longitud', 'posee_conectividad')"
   ]
  },
  {
   "cell_type": "markdown",
   "metadata": {},
   "source": [
    "Finalmente iterando sobre **header**, se imprimen aquellos valores que NO estan en la tupla creada anteriormente:"
   ]
  },
  {
   "cell_type": "code",
   "execution_count": null,
   "metadata": {},
   "outputs": [],
   "source": [
    "print ('Tipos de conectividad: ')\n",
    "for elem in header:\n",
    "    if elem not in no_connectivity:\n",
    "        print(f'  -', elem)"
   ]
  }
 ],
 "metadata": {
  "kernelspec": {
   "display_name": "Python 3",
   "language": "python",
   "name": "python3"
  },
  "language_info": {
   "codemirror_mode": {
    "name": "ipython",
    "version": 3
   },
   "file_extension": ".py",
   "mimetype": "text/x-python",
   "name": "python",
   "nbconvert_exporter": "python",
   "pygments_lexer": "ipython3",
   "version": "3.11.7"
  }
 },
 "nbformat": 4,
 "nbformat_minor": 2
}
