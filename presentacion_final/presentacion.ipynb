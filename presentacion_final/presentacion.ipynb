{
 "cells": [
  {
   "cell_type": "markdown",
   "metadata": {},
   "source": [
    "# Presentación final Grupo 24\n",
    "### Integrantes: Battaglino Ignacio - Marcos Santiago - Rosli Bautista - Kesselman Federico"
   ]
  },
  {
   "cell_type": "markdown",
   "metadata": {},
   "source": [
    "## 1- ¿Cómo divimos el trabajo y cómo nos organizamos con el repositorio?\n",
    "#### Inicio, Datos y Ranking: Bauti\n",
    "#### Juego: Nacho\n",
    "#### Estadísticas: Santi y Fede"
   ]
  },
  {
   "cell_type": "markdown",
   "metadata": {},
   "source": [
    "## 2- ¿Qué herramientas fueron utilizadas?\n",
    "#### IDE: vscode \n",
    "#### Librerías primera parte: jupyter , streamlit , Unidecode\n",
    "#### Librerías segunda parte: streamlit, pandas, unidecode, matplotlib, folium , streamlit_folium , streamlit-autorefresh\n",
    "#### Herramientas para trabajar colaborativamente: GitLab"
   ]
  },
  {
   "cell_type": "markdown",
   "metadata": {},
   "source": [
    "## 3- ¿Qué complicaciones tuvimos a la hora de desarrollar la aplicación?\n",
    "#### - Delay en el sign in, cuando no existían usuarios cargados\n",
    "#### - Problema en la implementación de las dificultades en la temática de conectividad"
   ]
  },
  {
   "cell_type": "markdown",
   "metadata": {},
   "source": [
    "## 4- ¿Cómo las solucionamos?\n",
    "#### - Log in automático al registrarse \n",
    "#### - Implementación de un timer a la hora de jugar "
   ]
  },
  {
   "cell_type": "markdown",
   "metadata": {},
   "source": [
    "---"
   ]
  },
  {
   "cell_type": "markdown",
   "metadata": {},
   "source": [
    "---"
   ]
  }
 ],
 "metadata": {
  "kernelspec": {
   "display_name": "Python 3 (ipykernel)",
   "language": "python",
   "name": "python3"
  },
  "language_info": {
   "codemirror_mode": {
    "name": "ipython",
    "version": 3
   },
   "file_extension": ".py",
   "mimetype": "text/x-python",
   "name": "python",
   "nbconvert_exporter": "python",
   "pygments_lexer": "ipython3",
   "version": "3.11.7"
  }
 },
 "nbformat": 4,
 "nbformat_minor": 4
}
